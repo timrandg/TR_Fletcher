{
 "cells": [
  {
   "cell_type": "code",
   "execution_count": 14,
   "metadata": {},
   "outputs": [
    {
     "name": "stdout",
     "output_type": "stream",
     "text": [
      "strict graph \"\" {\n",
      "\tDicer1 -- R2D2;\n",
      "\tDicer1 -- Ago1;\n",
      "\tDGCR8 -- Dicer1;\n",
      "}\n",
      "\n",
      "Wrote simple.dot\n",
      "Wrote {file_out}\n"
     ]
    }
   ],
   "source": [
    "#!/usr/bin/env python\n",
    "# -*- coding: utf-8 -*-\n",
    "\"\"\"\n",
    "A simple example to create a graphviz dot file and draw a graph.\n",
    "\"\"\"\n",
    "#    Copyright (C) 2006 by \n",
    "#    Aric Hagberg <hagberg@lanl.gov>\n",
    "#    Dan Schult <dschult@colgate.edu>\n",
    "#    Manos Renieris, http://www.cs.brown.edu/~er/\n",
    "#    Distributed with BSD license.     \n",
    "#    All rights reserved, see LICENSE for details.\n",
    "\n",
    "from __future__ import absolute_import\n",
    "from __future__ import unicode_literals\n",
    "from __future__ import print_function\n",
    "from __future__ import division\n",
    "\n",
    "__author__ = \"\"\"Aric Hagberg (hagberg@lanl.gov)\"\"\"\n",
    "\n",
    "import pygraphviz as pgv                          #1. import pygraphviz as pgv\n",
    "\n",
    "A=pgv.AGraph()                                    #Create AGraph object\n",
    "\n",
    "A.add_edge('Dicer1','R2D2')                       #Add edges to molecule name nodes\n",
    "A.add_edge('Dicer1','Ago1')\n",
    "A.add_edge('DGCR8','Dicer1')\n",
    "\n",
    "print(A.string()) # print to screen\n",
    "print(\"Wrote simple.dot\")\n",
    "#A.write('simple.dot') # write to simple.dot\n",
    "\n",
    "A.layout()\n",
    "file_out = 'TR_RNAi_test.png'\n",
    "A.draw(file_out)\n",
    "\n",
    "#B=pgv.AGraph('simple.dot') # create a new graph from file\n",
    "#B.layout() # layout with default (neato)\n",
    "#B.draw('simple.png') # draw png\n",
    "print(\"Wrote {file_out}\")"
   ]
  },
  {
   "cell_type": "code",
   "execution_count": 10,
   "metadata": {},
   "outputs": [
    {
     "name": "stdout",
     "output_type": "stream",
     "text": [
      "3_TR_Molecule_Name_Disambigation.ipynb\r\n",
      "4_TR_Graph_Viz_Molecule_Maps.ipynb\r\n",
      "\u001b[1m\u001b[36mDO_NOT_GIT_secret\u001b[m\u001b[m\r\n",
      "README.md\r\n",
      "TR_1 metapub module for downloading abstracts from pubmed.ipynb\r\n",
      "TR_2_Clustered_Heatmap.ipynb\r\n",
      "\u001b[1m\u001b[36mimages\u001b[m\u001b[m\r\n",
      "\u001b[1m\u001b[36mpickles\u001b[m\u001b[m\r\n",
      "simple.dot\r\n",
      "simple.png\r\n"
     ]
    }
   ],
   "source": [
    "!ls\n"
   ]
  },
  {
   "cell_type": "code",
   "execution_count": 15,
   "metadata": {},
   "outputs": [],
   "source": [
    "!open TR_RNAi_test.png"
   ]
  },
  {
   "cell_type": "code",
   "execution_count": 177,
   "metadata": {},
   "outputs": [
    {
     "name": "stdout",
     "output_type": "stream",
     "text": [
      "defaultdict(<class 'int'>, {'f': 11, 'd': 3, 'e': 2, 'b': 4, 'a': 5, 'c': 5, 'u': 3, 'o': 3, 't': 1, 'v': 1, 'q': 1, 's': 1})\n",
      "11 f\n",
      "3 d\n",
      "2 e\n",
      "4 b\n",
      "5 a\n",
      "5 c\n",
      "3 u\n",
      "3 o\n",
      "1 t\n",
      "1 v\n",
      "1 q\n",
      "1 s\n"
     ]
    }
   ],
   "source": [
    "import numpy as np\n",
    "import string\n",
    "import collections\n",
    "\n",
    "#tail end of alphabet is favored by dirichlet distribution\n",
    "freq_dist = np.random.dirichlet(list(10*np.ones(6)) + list(1*np.ones(14)) + list(1*np.ones(6)))\n",
    "#print(freq_dist)\n",
    "\n",
    "A=pgv.AGraph()                                    #Create AGraph object\n",
    "A.node_attr['style']='filled'\n",
    "node_count= collections.defaultdict(int)\n",
    "for i in range(0,20):\n",
    "    node_1 = np.random.choice(list('abcdefghijklmnopqrstuvwxyz'), 1, p=freq_dist)[0]\n",
    "    node_2 = np.random.choice(list('abcdefghijklmnopqrstuvwxyz'), 1, p=freq_dist)[0]\n",
    "    A.add_edge(node_1,node_2)\n",
    "    n=A.get_node(node_1)\n",
    "    node_count[n]+=1\n",
    "    n=A.get_node(node_2)\n",
    "    node_count[n]+=1\n",
    "    \n",
    "print(node_count)\n",
    "for n in node_count.keys():\n",
    "    print(node_count[n], n)\n",
    "    n.attr['fillcolor']=\"#%1x00000\"%(node_count[n]*4)\n",
    "    \n",
    "A.layout()\n",
    "file_out = 'letter_graph2.png'\n",
    "A.draw(file_out)\n",
    "!open 'letter_graph2.png'\n"
   ]
  },
  {
   "cell_type": "markdown",
   "metadata": {},
   "source": [
    "![test](letter_graph2.png)"
   ]
  },
  {
   "cell_type": "code",
   "execution_count": 153,
   "metadata": {},
   "outputs": [
    {
     "data": {
      "text/plain": [
       "'# 3000'"
      ]
     },
     "execution_count": 153,
     "metadata": {},
     "output_type": "execute_result"
    }
   ],
   "source": [
    "\"#%2x000\"%(node_count[n]*3)"
   ]
  },
  {
   "cell_type": "code",
   "execution_count": null,
   "metadata": {},
   "outputs": [],
   "source": []
  },
  {
   "cell_type": "code",
   "execution_count": 12,
   "metadata": {},
   "outputs": [
    {
     "name": "stdout",
     "output_type": "stream",
     "text": [
      "strict graph \"\" {\n",
      "\tnode [fixedsize=true,\n",
      "\t\tfontcolor=\"#FFFFFF\",\n",
      "\t\tshape=circle,\n",
      "\t\tstyle=filled\n",
      "\t];\n",
      "\t0\t [fillcolor=\"# 00000\",\n",
      "\t\theight=0.5,\n",
      "\t\twidth=0.5];\n",
      "\t0 -- 0;\n",
      "\t1\t [fillcolor=\"#100000\",\n",
      "\t\theight=0.5625,\n",
      "\t\twidth=0.5625];\n",
      "\t0 -- 1;\n",
      "\t2\t [fillcolor=\"#200000\",\n",
      "\t\theight=0.625,\n",
      "\t\twidth=0.625];\n",
      "\t0 -- 2;\n",
      "\t3\t [fillcolor=\"#300000\",\n",
      "\t\theight=0.6875,\n",
      "\t\twidth=0.6875];\n",
      "\t0 -- 3;\n",
      "\t4\t [fillcolor=\"#400000\",\n",
      "\t\theight=0.75,\n",
      "\t\twidth=0.75];\n",
      "\t0 -- 4;\n",
      "\t5\t [fillcolor=\"#500000\",\n",
      "\t\theight=0.8125,\n",
      "\t\twidth=0.8125];\n",
      "\t0 -- 5;\n",
      "\t6\t [fillcolor=\"#600000\",\n",
      "\t\theight=0.875,\n",
      "\t\twidth=0.875];\n",
      "\t0 -- 6;\n",
      "\t7\t [fillcolor=\"#700000\",\n",
      "\t\theight=0.9375,\n",
      "\t\twidth=0.9375];\n",
      "\t0 -- 7;\n",
      "\t8\t [fillcolor=\"#800000\",\n",
      "\t\theight=1.0,\n",
      "\t\twidth=1.0];\n",
      "\t0 -- 8;\n",
      "\t9\t [fillcolor=\"#900000\",\n",
      "\t\theight=1.0625,\n",
      "\t\twidth=1.0625];\n",
      "\t0 -- 9;\n",
      "\t10\t [fillcolor=\"#a00000\",\n",
      "\t\theight=1.125,\n",
      "\t\twidth=1.125];\n",
      "\t0 -- 10;\n",
      "\t11\t [fillcolor=\"#b00000\",\n",
      "\t\theight=1.1875,\n",
      "\t\twidth=1.1875];\n",
      "\t0 -- 11;\n",
      "\t12\t [fillcolor=\"#c00000\",\n",
      "\t\theight=1.25,\n",
      "\t\twidth=1.25];\n",
      "\t0 -- 12;\n",
      "\t13\t [fillcolor=\"#d00000\",\n",
      "\t\theight=1.3125,\n",
      "\t\twidth=1.3125];\n",
      "\t0 -- 13;\n",
      "\t14\t [fillcolor=\"#e00000\",\n",
      "\t\theight=1.375,\n",
      "\t\twidth=1.375];\n",
      "\t0 -- 14;\n",
      "\t15\t [fillcolor=\"#f00000\",\n",
      "\t\theight=1.4375,\n",
      "\t\twidth=1.4375];\n",
      "\t0 -- 15;\n",
      "}\n",
      "\n",
      "Wrote star.dot\n",
      "Wrote star.png\n"
     ]
    }
   ],
   "source": [
    "#!/usr/bin/env python\n",
    "# -*- coding: utf-8 -*-\n",
    "\"\"\"\n",
    "Create and draw a star with varying node properties.\n",
    "\"\"\"\n",
    "#    Copyright (C) 2006 by \n",
    "#    Aric Hagberg <hagberg@lanl.gov>\n",
    "#    Dan Schult <dschult@colgate.edu>\n",
    "#    Manos Renieris, http://www.cs.brown.edu/~er/\n",
    "#    Distributed with BSD license.     \n",
    "#    All rights reserved, see LICENSE for details.\n",
    "\n",
    "from __future__ import absolute_import\n",
    "from __future__ import unicode_literals\n",
    "from __future__ import print_function\n",
    "from __future__ import division\n",
    "\n",
    "__author__ = \"\"\"Aric Hagberg (hagberg@lanl.gov)\"\"\"\n",
    "\n",
    "from pygraphviz import *\n",
    "\n",
    "A=AGraph()\n",
    "\n",
    "# set some default node attributes\n",
    "A.node_attr['style']='filled'\n",
    "A.node_attr['shape']='circle'\n",
    "A.node_attr['fixedsize']='true'\n",
    "A.node_attr['fontcolor']='#FFFFFF'\n",
    "\n",
    "# make a star in shades of red\n",
    "for i in range(16):\n",
    "    A.add_edge(0,i)\n",
    "    n=A.get_node(i)\n",
    "    n.attr['fillcolor']=\"#%2x0000\"%(i*16)\n",
    "    n.attr['height']=\"%s\"%(i/16.0+0.5)\n",
    "    n.attr['width']=\"%s\"%(i/16.0+0.5)\n",
    "\n",
    "print(A.string()) # print to screen\n",
    "A.write(\"star.dot\") # write to simple.dot\n",
    "print(\"Wrote star.dot\")\n",
    "A.draw('star.png',prog=\"circo\") # draw to png using circo\n",
    "print(\"Wrote star.png\")"
   ]
  },
  {
   "cell_type": "code",
   "execution_count": 13,
   "metadata": {},
   "outputs": [],
   "source": [
    "!open star.png"
   ]
  },
  {
   "cell_type": "code",
   "execution_count": null,
   "metadata": {},
   "outputs": [],
   "source": []
  }
 ],
 "metadata": {
  "kernelspec": {
   "display_name": "Python 3",
   "language": "python",
   "name": "python3"
  },
  "language_info": {
   "codemirror_mode": {
    "name": "ipython",
    "version": 3
   },
   "file_extension": ".py",
   "mimetype": "text/x-python",
   "name": "python",
   "nbconvert_exporter": "python",
   "pygments_lexer": "ipython3",
   "version": "3.7.0"
  }
 },
 "nbformat": 4,
 "nbformat_minor": 2
}
