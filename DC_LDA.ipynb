{
 "cells": [
  {
   "cell_type": "code",
   "execution_count": 198,
   "metadata": {},
   "outputs": [],
   "source": [
    "import gensim\n",
    "import pyLDAvis\n",
    "from pyLDAvis import gensim as gensimvis\n",
    "import spacy\n",
    "from pprint import pprint"
   ]
  },
  {
   "cell_type": "code",
   "execution_count": null,
   "metadata": {},
   "outputs": [],
   "source": [
    "# Comment this cell out if you like python warnings\n",
    "import warnings\n",
    "warnings.filterwarnings('ignore')"
   ]
  },
  {
   "cell_type": "code",
   "execution_count": 190,
   "metadata": {},
   "outputs": [
    {
     "name": "stderr",
     "output_type": "stream",
     "text": [
      "WARNING:eutils.queryservice:No NCBI API key provided; throttling to 3 requests/second; see https://ncbiinsights.ncbi.nlm.nih.gov/2017/11/02/new-api-keys-for-the-e-utilities/\n"
     ]
    }
   ],
   "source": [
    "# TODO: Maybe multithread this so this is less of a bottleneck?\n",
    "# TODO: Put abstracts into a shared AWS database and maybe even spin up an instance to get more abstracts\n",
    "\n",
    "# Get n abstracts for a topic from NCBI API\n",
    "from metapub import PubMedFetcher\n",
    "\n",
    "fetch = PubMedFetcher()\n",
    "\n",
    "# Get the first n abstracts for a given search term\n",
    "def get_abstracts(search_term, n):\n",
    "    \n",
    "    # get n pmids for search query\n",
    "    pmids = fetch.pmids_for_query(search_term, retmax=n)\n",
    "\n",
    "    # get list of abstracts from pmids:\n",
    "    abstracts = {}\n",
    "    for pmid in pmids:\n",
    "        abstracts[pmid] = fetch.article_by_pmid(pmid).abstract\n",
    "        \n",
    "    return list(abstracts.values())"
   ]
  },
  {
   "cell_type": "code",
   "execution_count": null,
   "metadata": {},
   "outputs": [],
   "source": [
    "# Get 500 abstracts for P53\n",
    "\n",
    "p53_abstracts = get_abstracts('P53', 500)"
   ]
  },
  {
   "cell_type": "code",
   "execution_count": 191,
   "metadata": {},
   "outputs": [],
   "source": [
    "# Get 100 abstracts for zika virus\n",
    "\n",
    "zika_abstracts = get_abstracts('Zika virus', 100)"
   ]
  },
  {
   "cell_type": "code",
   "execution_count": 132,
   "metadata": {},
   "outputs": [],
   "source": [
    "# Get 100 abstracts for BRCA\n",
    "\n",
    "brca_abstracts = get_abstracts('BRCA', 100)"
   ]
  },
  {
   "cell_type": "code",
   "execution_count": 133,
   "metadata": {},
   "outputs": [],
   "source": [
    "abs_list = p53_abstracts + zika_abstracts + brca_abstracts"
   ]
  },
  {
   "cell_type": "code",
   "execution_count": 134,
   "metadata": {},
   "outputs": [
    {
     "data": {
      "text/plain": [
       "619"
      ]
     },
     "execution_count": 134,
     "metadata": {},
     "output_type": "execute_result"
    }
   ],
   "source": [
    "len(abs_list)"
   ]
  },
  {
   "cell_type": "code",
   "execution_count": 192,
   "metadata": {},
   "outputs": [],
   "source": [
    "# TODO: Check that this simple preprocessing is actually helping and not hurting our process\n",
    "\n",
    "# Get words from abstracts (pre processing)\n",
    "def abs_to_words(abstracts):\n",
    "    for abstract in abstracts:\n",
    "        yield(gensim.utils.simple_preprocess(str(abstract), deacc=True))\n"
   ]
  },
  {
   "cell_type": "code",
   "execution_count": 193,
   "metadata": {},
   "outputs": [],
   "source": [
    "# Get list of cleaned abstracts \n",
    "clean_abs = list(sent_to_words(abs_list))"
   ]
  },
  {
   "cell_type": "code",
   "execution_count": 168,
   "metadata": {},
   "outputs": [
    {
     "name": "stderr",
     "output_type": "stream",
     "text": [
      "/anaconda3/lib/python3.6/site-packages/gensim/models/phrases.py:598: UserWarning: For a faster implementation, use the gensim.models.phrases.Phraser class\n",
      "  warnings.warn(\"For a faster implementation, use the gensim.models.phrases.Phraser class\")\n"
     ]
    }
   ],
   "source": [
    "# TODO: I'm not sure if this is the right implementation for the bi/trigrams so this could use more research\n",
    "# as the current implementation is lifted straight from class notes\n",
    "# TODO: Look into the threshold parameters of the Phrases class, it could be that bigrams and trigrams are rare\n",
    "\n",
    "# Build the bigram and trigram models\n",
    "bigram = gensim.models.Phrases(clean_abs, min_count=20) # higher threshold fewer phrases.\n",
    "\n",
    "trigram = gensim.models.Phrases(bigram[clean_abs], min_count=10)  \n",
    "\n",
    "# Faster way to get a sentence clubbed as a trigram/bigram\n",
    "bigram_model = gensim.models.phrases.Phraser(bigram)\n",
    "trigram_model = gensim.models.phrases.Phraser(trigram)"
   ]
  },
  {
   "cell_type": "code",
   "execution_count": 171,
   "metadata": {},
   "outputs": [
    {
     "name": "stdout",
     "output_type": "stream",
     "text": [
      "verrucous carcinoma of the esophagus vce is_rare variant of squamous_cell cancer with puzzling clinical etiological and molecular profile the etiological involvement of human_papillomavirus hpv in the cancer natural history is controversial this_study considers nine cases of vce focusing on patients clinical history before surgery histological phenotype immunophenotype egfr cadherin cyclin and expression hpv infection and tp_gene mutational_status exons using three different molecular test methods not one of these cases of vce featured hpv infection the only case with synchronous nodal metastasis was characterized_by tp missense point mutation in association_with high egfr and low cadherin expression levels in conclusion hpv infection is probably not involved vce while tp_gene mutation egfr overexpression and cadherin loss might fuel the tumor proliferation and lend it metastatic potential \n",
      "\n",
      "background and aim tumor genotyping may allow for improved prognostication and targeted_therapy for pancreatic adenocarcinoma_pdac we_aimed to compare endoscopic ultrasonography eus with fine needle aspiration fna to fine needle biopsy fnb for obtaining sufficient tissue for genomic analysis and theranostic potential methods retrospective cohort study of patients undergoing eus fna and eus fnb with either positive or suspicious cytology for pdac between march and december demographic procedural and cytology data were recorded genetic_alterations were recorded and kaplan meier survival curves were calculated results the study included patients patients had fna and patients underwent fnb overall samples were sufficient for targeted_next_generation sequencing fnb resulted in higher proportion of patients_with sufficient samples compared_to fna vs in multivariable modeling only fnb or_ci was associated_with sufficient sampling for genomic testing fnb was more likely to obtain sufficient tissue from tumors cm vs and tumors located in the head neck of the pancreas vs compared_to fna the most_commonly identified alterations were in kras tp and smad conclusions eus can reliably obtain sufficient tissue from pdac for targeted genomic sequencing for prognostication and theranostics fnb should_be considered when tumor genotyping is requested especially for tumors cm or tumors located in the head neck of the pancreas \n",
      "\n",
      "consensus strategy was proved to_be highly efficient in the recognition of gene disease association therefore the main objective of this_study was to apply theoretical approaches to_explore genes and communities directly involved_in breast_cancer bc pathogenesis we evaluated the consensus between prioritization strategies for the early recognition of pathogenic genes communality analysis in the protein protein interaction ppi network of previously selected genes was enriched with gene ontology metabolic pathways as_well_as oncogenomics validation with the oncoppi and drive projects the consensus genes were rationally filtered to genes the communality analysis showed an enrichment of communities specially connected with erbb pi akt mtor foxo hif vegf mapk and prolactin signaling_pathways genes with highest ranking were tp esr brca brca and erbb genes with highest connectivity degree were tp akt src crebbp and ep the connectivity degree allowed to establish significant correlation_between the oncoppi network and our bc integrated network conformed by genes and ppi in_addition ccnd rad cdc yap and rpa were functional genes with significant sensitivity score in bc cell_lines in conclusion the consensus strategy identifies both well known pathogenic genes and prioritized genes that need to_be further explored \n",
      "\n",
      "chromosomal instability cin is the result of ongoing changes in the number aneuploidy and structure of chromosomes cin is induced by chromosome missegregation in mitosis and leads_to karyotypic diversity within the cancer cell population thereby adding to intratumor heterogeneity regardless of the overall pro oncogenic function of cin its onset is typically detrimental for cell fitness and thus tumors must develop cin tolerance mechanisms in order_to propagate there_is overwhelming genetic and functional evidence linking mutations in the tumor_suppressor \n",
      "\n",
      "purpose ocular adnexal oa sebaceous carcinoma is an aggressive malignancy of the eyelid and ocular adnexa that frequently recurs and metastasizes and effective therapies beyond surgical excision are lacking there remains critical need to define the molecular genetic drivers of the disease to understand and progression and to devise novel treatment strategies experimental design we present next_generation_sequencing of targeted panel of cancer associated_genes in and whole transcriptome rna_sequencing from oa sebaceous carcinomas from patients results we delineate two potentially distinct molecular genetic subtypes of oa sebaceous carcinoma the first is defined by somatic_mutations impacting conclusions together our_findings establish potential molecular genetic framework by which to understand the development and progression of oa sebaceous carcinoma and provide key molecular genetic insights to direct the design of novel therapeutic interventions \n",
      "\n"
     ]
    }
   ],
   "source": [
    "# Print a few exaples of cleaned trigram model abstracts\n",
    "for s in clean_abs[0:5]:\n",
    "    print(f'{\" \".join(trigram_model[bigram_model[s]]) } \\n')"
   ]
  },
  {
   "cell_type": "code",
   "execution_count": 172,
   "metadata": {},
   "outputs": [],
   "source": [
    "# TODO: Make sure this is the right implementation as this was also lifted straight from class\n",
    "\n",
    "clean_abs = [trigram_model[bigram_model[t]] for t in clean_abs]"
   ]
  },
  {
   "cell_type": "code",
   "execution_count": 173,
   "metadata": {},
   "outputs": [
    {
     "name": "stdout",
     "output_type": "stream",
     "text": [
      "background treatment of cancer with natural agents induces apoptosis along with remarkable alterations in the expression of apoptosis related genes deregulation of microrna mirna expression is implicated in several human malignancies vinca alkaloids compose class of antimitotic drugs preventing cancer cells from dividing leading to apoptosis they are commonly used in clinical practice for breast cancer treatment objective the present study focused on the effects of vinca alkaloids vincristine vinblastine and vinorelbine on mirna expression of treated breast cancer cells methods we investigated the effect of vincristine vinblastine and vinorelbine on the expression of oncogenic and tumor suppressive mirnas mir mir mir mir mir mir mir mir mir mir and mir as well as on the expression of the apoptosis related genes bax bcl and tp in bt and sk br breast adenocarcinoma cells results treatment of bt cells with vincristine vinblastine and or vinorelbine resulted in upregulation of tp expression however no alterations in the mrna levels of the pivotal bcl family members bax and bcl were observed on the other hand treatment of sk br cells with any of these vinca alkaloids led to an increase in the bax bcl mrna ratio implying the activation of the intrinsic apoptotic pathway no concomitant alteration in tp expression was observed in treated sk br cells regarding the mirnas examined in this study only mir expression exhibited significant modulations in both treated cell lines conclusion this study suggests the possible involvement of mir expression in breast cancer cell apoptosis triggered by vincristine vinblastine and vinorelbine \n",
      "\n",
      "background the memorial sloan kettering cancer center mskcc risk model is an established prognostic tool for metastatic renal cell carcinoma that integrates clinical and laboratory data but is agnostic to tumour genomics several mutations including bap and pbrm have prognostic value in renal cell carcinoma using two independent clinical trial datasets of patients with metastatic renal cell carcinoma we aimed to study whether the addition of the mutation status for several candidate prognostic genes to the mskcc model could improve the model prognostic performance methods in this retrospective cohort study we used available formalin fixed paraffin embedded tumour tissue and clinical outcome data from patients with metastatic renal cell carcinoma assigned to treatment with tyrosine kinase inhibitors in the comparz trial training cohort and record trial validation cohort eligible patients in both trials were treatment naive had histologically confirmed advanced or metastatic renal cell carcinoma and karnofsky performance status score of at least for each cohort data from patients in all treatment groups sunitinib and pazopanib in the training cohort and everolimus and sunitinib in the validation cohort were pooled for this analysis in the training cohort tumour tissue was used to evaluate somatic mutations by next generation sequencing and the association between cancer specific outcomes overall survival progression free survival and overall response and the mutation status of six genes of interest bap pbrm tp tert kdm and setd was tested only those genes with prognostic value in this setting were added to the mskcc risk model to create genomically annotated version the validation cohort was used to independently test the prognostic value of the annotated model compared with the original mskcc risk model findings of patients assigned to protocol treatment in the comparz study between august and september were evaluable for mutation status and clinical outcomes in the training cohort the independent validation cohort included of evaluable patients enrolled between october and june on the record study in the training cohort the presence of any mutation in bap or tp or both and absence of any mutation in pbrm were prognostic in terms of overall survival tp interpretation the mutation status of bap pbrm and tp has independent prognostic value in patients with advanced or metastatic renal cell carcinoma treated with first line tyrosine kinase inhibitors improved stratification of patients across risk groups by use of genomically annotated model including the mutational status of these three genes warrants further investigation in prospective trials and could be of use as model to stratify patients with metastatic renal cell carcinoma in clinical trials funding novartis pharmaceuticals corporation mskcc support grant core grant and the randall kathleen macdonald research fund \n",
      "\n",
      "purpose we explored the mechanism of aspirin in sclc by dissecting many publicly available databases methods and results firstly direct protein targets dpts of aspirin were identified by drugbank then protein protein interaction ppi network and signaling pathways of aspirin dpts were analyzed we found that aspirin was linked with many kinds of cancer and the most significant one is sclc next we classified the mutation of aspirin dpts in sclc ikbkb nfkbia ptgs and tp using cbio portal further we identified top overexpressed genes of sclc by oncomine and the interconnected genes with the aspirin dpts in sclc ikbkb nfkbia ptgs and tp by string lastly we figured out consistently genes as potential therapeutic targets of aspirin in sclc conclusion the integrated bioinformatical analysis could improve our understanding of the underlying molecular mechanism about how aspirin working in sclc integrated bioinformatical analysis may be considered as new paradigm for guiding future studies about interaction in drugs and diseases \n",
      "\n",
      "background invasive lobular carcinoma ilc of the breast has epidemiological molecular and clinical specificities and should likely be considered unique entity as for genetic susceptibility cdh germline mutations predispose exclusively to ilc data are however scarce regarding ilc in women with brca hereditary breast and ovarian cancer and tp li fraumeni syndrome germline mutations methods we included all breast cancers from female patients tested at our institute between and for which pathology data were available ilc proportion comparison according to mutational status was performed by chi squared test the impact of susceptibility genes on ilc proportion was investigated by univariate logistic regression with wild type patients as reference results and discussion there were ilc in brca patients in brca patients in tp patients and in non carriers the majority of breast cancers in all groups were invasive ductal and ductal in situ carcinomas the difference in ilc proportion was highly significant compared to wild type patients brca was associated with lower ilc proportion or ci brca or was ci tp or was ci ilc are therefore in brca and tp mutation carriers formal significance was not reached for tp but statistical power was only based on ilc incidence in the general population we make the hypothesis that brca and tp do not predispose to ilc as the few occurrences of ilc in mutation carriers could be attributed to chance and not to germline mutations our observations will be useful to clinical cancer geneticists managing patients with ilc as brca or tp mutation in these patients would be unlikely genetic counseling should be adapted accordingly \n",
      "\n",
      "purpose the elevated levels of somatic copy number alterations scna in subset of high risk endometrial cancers ec are suggestive of defects in pathways governing genome integrity we sought to assess the prevalence of homologous recombination deficiency hrd in ec and its association with and molecular characteristics experimental design fresh tumor tissue was prospectively collected from ec and functional hrd was examined by the ability of replicating tumor cells to accumulate rad protein at dna double strand breaks rad foci induced by ionizing radiation genomic alterations were determined by next generation sequencing and array comparative genomic hybridization snp array the prevalence of \n",
      "\n"
     ]
    }
   ],
   "source": [
    "for t in clean_sents[:5]:\n",
    "    print(f'{\" \".join(t)} \\n')"
   ]
  },
  {
   "cell_type": "code",
   "execution_count": 174,
   "metadata": {},
   "outputs": [],
   "source": [
    "# TODO: Check that this lemmatization is helping and not hurting our process, maybe a more sophisticated \n",
    "# implementation would be better\n",
    "\n",
    "# Lemmatize the abstracts\n",
    "\n",
    "nlp = spacy.load('en', disable=['parser', 'ner'])\n",
    "\n",
    "# NOUN, ADJ, VERB, ADV\n",
    "def lemmatization(texts, allowed_postags=['NOUN']):\n",
    "    texts_out = []\n",
    "    for sent in texts:\n",
    "        doc = nlp(\" \".join(sent)) \n",
    "        \n",
    "        output_text = [token.lemma_ for token in doc if token.pos_ in allowed_postags and token.is_stop == False]\n",
    "        \n",
    "        if len(output_text) > 0:\n",
    "            texts_out.append(output_text)\n",
    "    return texts_out"
   ]
  },
  {
   "cell_type": "code",
   "execution_count": 175,
   "metadata": {},
   "outputs": [],
   "source": [
    "# Lemmatize the abstracts\n",
    "clean_abs = lemmatization(clean_abs)"
   ]
  },
  {
   "cell_type": "code",
   "execution_count": 176,
   "metadata": {},
   "outputs": [
    {
     "name": "stdout",
     "output_type": "stream",
     "text": [
      "carcinoma esophagus vce variant cancer profile involvement hpv cancer history this_study case vce patient history surgery phenotype immunophenotype egfr cadherin cyclin expression infection tp_gene mutational_status exon test method case vce infection case metastasis missense point mutation egfr cadherin expression level conclusion infection vce tp_gene mutation egfr overexpression cadherin loss tumor proliferation potential \n",
      "\n",
      "background tumor genotyping prognostication targeted_therapy ultrasonography eus aspiration fna needle biopsy fnb tissue analysis theranostic method cohort study patient eus fna eus cytology pdac march december cytology datum genetic_alteration survival curve result study patient patient fna patient sample targeted_next_generation sequencing proportion patients_with sample compared_to fna modeling sampling testing tissue tumor tumor head neck pancrea compared_to fna alteration kra smad conclusion eus tissue pdac sequencing prognostication theranostic fnb should_be tumor genotyping tumor cm tumor head neck pancreas \n",
      "\n",
      "consensus strategy recognition gene disease association objective this_study approach to_explore gene community breast_cancer bc pathogenesis consensus prioritization strategy recognition gene communality analysis protein protein interaction network gene gene ontology metabolic pathway oncogenomic validation oncoppi drive project consensus gene gene communality analysis enrichment community pi akt mtor foxo vegf mapk prolactin signaling_pathway gene esr brca brca gene connectivity degree src crebbp connectivity degree network bc network gene in_addition ccnd rad cdc yap rpa gene sensitivity score bc cell_line conclusion consensus strategy gene gene \n",
      "\n",
      "instability cin result change number aneuploidy structure chromosome cin chromosome missegregation mitosis diversity cancer cell population heterogeneity function cin onset cell fitness tumor cin tolerance mechanism order_to evidence mutation tumor_suppressor \n",
      "\n",
      "purpose adnexal carcinoma malignancy adnexa recur metastasiz therapy excision need driver disease progression treatment strategy design next_generation_sequencing panel cancer associated_gene carcinoma patient result subtype carcinoma somatic_mutation conclusion our_finding framework development progression carcinoma insight design intervention \n",
      "\n"
     ]
    }
   ],
   "source": [
    "for t in clean_abs[0:5]:\n",
    "    print(f'{\" \".join(t)} \\n')"
   ]
  },
  {
   "cell_type": "code",
   "execution_count": 177,
   "metadata": {},
   "outputs": [],
   "source": [
    "# TODO: Same as above, this implementation is from class, not sure if this is the best way\n",
    "\n",
    "# Create bag of words representation of abstracts\n",
    "\n",
    "id2word = gensim.corpora.Dictionary(clean_abs)\n",
    "\n",
    "corpus = [id2word.doc2bow(t) for t in clean_abs]"
   ]
  },
  {
   "cell_type": "code",
   "execution_count": 178,
   "metadata": {},
   "outputs": [
    {
     "data": {
      "text/plain": [
       "[('cadherin', 3), ('cancer', 2), ('carcinoma', 1), ('case', 3), ('conclusion', 1), ('cyclin', 1), ('egfr', 3), ('esophagus', 1), ('exon', 1), ('expression', 2), ('history', 2), ('hpv', 1), ('immunophenotype', 1), ('infection', 3), ('involvement', 1), ('level', 1), ('loss', 1), ('metastasis', 1), ('method', 1), ('missense', 1), ('mutation', 2), ('mutational_status', 1), ('overexpression', 1), ('patient', 1), ('phenotype', 1), ('point', 1), ('potential', 1), ('profile', 1), ('proliferation', 1), ('surgery', 1), ('test', 1), ('this_study', 1), ('tp_gene', 2), ('tumor', 1), ('variant', 1), ('vce', 4)]"
      ]
     },
     "execution_count": 178,
     "metadata": {},
     "output_type": "execute_result"
    }
   ],
   "source": [
    "# Uncomment to view an example of a bow representation for an abstract (from corpus)\n",
    "# [(id2word[id], freq) for id, freq in corpus[0]]"
   ]
  },
  {
   "cell_type": "code",
   "execution_count": 194,
   "metadata": {},
   "outputs": [],
   "source": [
    "# TODO: Tune parameters like number of topics, passes, etc\n",
    "\n",
    "# Create the LDA model\n",
    "\n",
    "lda_model = gensim.models.ldamulticore.LdaMulticore(corpus=corpus,\n",
    "                                           id2word=id2word,\n",
    "                                           num_topics=10, \n",
    "                                           random_state=100,\n",
    "                                           chunksize=100,\n",
    "                                           passes=128,\n",
    "                                           per_word_topics=True)"
   ]
  },
  {
   "cell_type": "code",
   "execution_count": 180,
   "metadata": {},
   "outputs": [
    {
     "name": "stdout",
     "output_type": "stream",
     "text": [
      "[(0,\n",
      "  '0.030*\"gene\" + 0.027*\"patient\" + 0.024*\"mutation\" + 0.022*\"breast_cancer\" + '\n",
      "  '0.018*\"cancer\" + 0.018*\"risk\" + 0.015*\"brca\" + 0.012*\"result\" + '\n",
      "  '0.011*\"year\" + 0.010*\"study\"'),\n",
      " (1,\n",
      "  '0.037*\"expression\" + 0.027*\"gene\" + 0.022*\"protein\" + 0.019*\"cell\" + '\n",
      "  '0.016*\"apoptosis\" + 0.016*\"mir\" + 0.015*\"analysis\" + 0.014*\"pathway\" + '\n",
      "  '0.013*\"mirna\" + 0.012*\"survival\"'),\n",
      " (2,\n",
      "  '0.014*\"treatment\" + 0.013*\"cell\" + 0.012*\"effect\" + 0.011*\"cell_line\" + '\n",
      "  '0.009*\"emodin\" + 0.008*\"mosquito\" + 0.008*\"variant\" + 0.007*\"hdac\" + '\n",
      "  '0.007*\"cancer\" + 0.006*\"mouse\"'),\n",
      " (3,\n",
      "  '0.021*\"tumor\" + 0.016*\"carcinoma\" + 0.016*\"cancer\" + 0.013*\"patient\" + '\n",
      "  '0.012*\"case\" + 0.011*\"mutation\" + 0.010*\"cell\" + 0.008*\"expression\" + '\n",
      "  '0.008*\"patients_with\" + 0.007*\"conclusion\"'),\n",
      " (4,\n",
      "  '0.045*\"mutation\" + 0.029*\"tumor\" + 0.020*\"gene\" + 0.012*\"case\" + '\n",
      "  '0.008*\"protein\" + 0.008*\"cancer\" + 0.007*\"squamous_cell_carcinoma\" + '\n",
      "  '0.007*\"alteration\" + 0.007*\"analysis\" + 0.007*\"heterogeneity\"'),\n",
      " (5,\n",
      "  '0.014*\"cell\" + 0.012*\"gene\" + 0.012*\"cancer\" + 0.009*\"study\" + '\n",
      "  '0.007*\"protein\" + 0.006*\"change\" + 0.006*\"tumor\" + 0.006*\"disease\" + '\n",
      "  '0.006*\"method\" + 0.005*\"pathway\"'),\n",
      " (6,\n",
      "  '0.045*\"patient\" + 0.042*\"mutation\" + 0.022*\"patients_with\" + 0.019*\"gene\" + '\n",
      "  '0.015*\"treatment\" + 0.014*\"tumor\" + 0.010*\"case\" + 0.010*\"sample\" + '\n",
      "  '0.008*\"analysis\" + 0.008*\"conclusion\"'),\n",
      " (7,\n",
      "  '0.041*\"zikv\" + 0.037*\"virus\" + 0.023*\"infection\" + 0.015*\"zikv_infection\" + '\n",
      "  '0.013*\"cell\" + 0.011*\"flavivirus\" + 0.009*\"denv\" + 0.009*\"host\" + '\n",
      "  '0.008*\"syndrome\" + 0.008*\"replication\"'),\n",
      " (8,\n",
      "  '0.035*\"cell\" + 0.023*\"cancer\" + 0.014*\"protein\" + 0.011*\"inhibitor\" + '\n",
      "  '0.009*\"inhibition\" + 0.009*\"gene\" + 0.008*\"resistance\" + 0.008*\"tumor\" + '\n",
      "  '0.008*\"mechanism\" + 0.008*\"activity\"'),\n",
      " (9,\n",
      "  '0.014*\"health\" + 0.013*\"model\" + 0.013*\"infection\" + 0.010*\"population\" + '\n",
      "  '0.010*\"virus\" + 0.008*\"dengue\" + 0.007*\"study\" + 0.007*\"arbovirus\" + '\n",
      "  '0.007*\"fever\" + 0.006*\"zikv\"')]\n"
     ]
    }
   ],
   "source": [
    "# Print topics\n",
    "pprint(lda_model.print_topics())"
   ]
  },
  {
   "cell_type": "code",
   "execution_count": 182,
   "metadata": {},
   "outputs": [
    {
     "name": "stdout",
     "output_type": "stream",
     "text": [
      "[(2, 0.7404139), (0, 0.25069582)]\n"
     ]
    }
   ],
   "source": [
    "# Uncomment to print the top topics of a particular abstract from the corpus\n",
    "# top_topics = lda_model.get_document_topics(corpus[400])\n",
    "# top_topics.sort(key=lambda x: x[1], reverse=True)\n",
    "\n",
    "\n",
    "# print(top_topics)"
   ]
  },
  {
   "cell_type": "code",
   "execution_count": 218,
   "metadata": {},
   "outputs": [],
   "source": [
    "# TODO: Make sure this function changes if the above processing implementation changes as this is a mirror of\n",
    "# those operations\n",
    "\n",
    "# Now that we have gone through the process of processing/lemmatizing/bow-ing let's abstract to a function\n",
    "# for any new test topics\n",
    "\n",
    "def abstracts_to_corpus(abstracts):\n",
    "    clean_abs = list(sent_to_words(abstracts))\n",
    "    id2word = gensim.corpora.Dictionary(clean_abs)\n",
    "    corpus = [id2word.doc2bow(t) for t in clean_abs]\n",
    "    return corpus"
   ]
  },
  {
   "cell_type": "code",
   "execution_count": 222,
   "metadata": {},
   "outputs": [],
   "source": [
    "# Print topics for n items in a corpus based on our LDA model\n",
    "\n",
    "def print_top_topics(test_corpus, n):\n",
    "    for i in range(n):\n",
    "        top_topics = lda_model.get_document_topics(test_corpus[i])\n",
    "        top_topics.sort(key=lambda x: x[1], reverse=True)\n",
    "\n",
    "        print(top_topics)\n",
    "\n"
   ]
  },
  {
   "cell_type": "code",
   "execution_count": 223,
   "metadata": {},
   "outputs": [
    {
     "name": "stdout",
     "output_type": "stream",
     "text": [
      "[(3, 0.3205298), (6, 0.28452444), (1, 0.15445842), (4, 0.13608019), (8, 0.061582934), (0, 0.04102215)]\n",
      "[(4, 0.18477465), (3, 0.18393435), (6, 0.17844248), (1, 0.16565396), (0, 0.13249461), (8, 0.06625642), (9, 0.056678552), (5, 0.031113373)]\n",
      "[(6, 0.33838257), (9, 0.17335859), (0, 0.14897941), (7, 0.10982089), (3, 0.10177885), (1, 0.072340116), (8, 0.053792756)]\n",
      "[(6, 0.45875052), (4, 0.18954758), (3, 0.123993866), (8, 0.104326375), (0, 0.079684354), (1, 0.032170314)]\n",
      "[(6, 0.3368403), (3, 0.18091713), (0, 0.16014554), (4, 0.13413037), (1, 0.0962157), (8, 0.077466786), (5, 0.012932634)]\n",
      "[(0, 0.2716516), (6, 0.2546257), (4, 0.18306825), (3, 0.15645285), (9, 0.07538702), (5, 0.031308983), (8, 0.02487355)]\n",
      "[(4, 0.3355083), (1, 0.306629), (3, 0.11506423), (8, 0.08112837), (6, 0.07200557), (9, 0.038002986), (5, 0.022619909), (0, 0.02176846)]\n",
      "[(4, 0.25313357), (6, 0.20196074), (0, 0.14576037), (1, 0.10761401), (8, 0.101119176), (5, 0.088142276), (3, 0.08277756), (7, 0.01087374)]\n",
      "[(8, 0.25835845), (6, 0.22112049), (3, 0.20585807), (1, 0.12835224), (4, 0.098280035), (0, 0.056960963), (7, 0.015414345), (9, 0.014835518)]\n",
      "[(0, 0.24780849), (8, 0.24452332), (6, 0.19748208), (1, 0.12034241), (3, 0.10022501), (4, 0.050513275), (9, 0.020310268), (7, 0.01760432)]\n",
      "[(0, 0.36112928), (4, 0.2567912), (3, 0.19293514), (8, 0.17039134)]\n",
      "[(6, 0.32454157), (0, 0.26796082), (1, 0.14669357), (3, 0.11465106), (8, 0.090163894), (4, 0.047978755)]\n",
      "[(6, 0.33007947), (3, 0.28022844), (0, 0.14183445), (4, 0.10367831), (8, 0.07370933), (1, 0.031027671), (9, 0.027976384), (7, 0.010360813)]\n",
      "[(6, 0.32995212), (4, 0.21871845), (0, 0.17167018), (8, 0.11444249), (9, 0.072652675), (3, 0.068156116), (2, 0.020058991)]\n",
      "[(5, 0.32070306), (3, 0.26506144), (6, 0.18791331), (0, 0.12089939), (7, 0.07416951)]\n",
      "[(8, 0.22734782), (6, 0.22054777), (5, 0.17467849), (3, 0.14924131), (1, 0.10321354), (0, 0.07027806), (9, 0.028603135), (4, 0.024450308)]\n",
      "[(6, 0.21687222), (8, 0.21157712), (3, 0.1664681), (4, 0.11620744), (9, 0.10470731), (1, 0.08866914), (0, 0.03954532), (5, 0.03335413), (7, 0.022190986)]\n",
      "[(6, 0.2856562), (5, 0.22827712), (3, 0.13626605), (0, 0.1185971), (4, 0.08307049), (1, 0.05677722), (9, 0.03796615), (8, 0.03234881), (7, 0.0206784)]\n",
      "[(6, 0.24335983), (3, 0.20348887), (4, 0.18125466), (0, 0.11721406), (8, 0.08497244), (1, 0.080690555), (2, 0.03480732), (9, 0.022370176), (7, 0.016477395), (5, 0.015364658)]\n",
      "[(6, 0.31916484), (0, 0.31130263), (8, 0.13514738), (1, 0.10292851), (3, 0.08283129), (4, 0.02390978), (9, 0.02321527)]\n"
     ]
    }
   ],
   "source": [
    "# Example of the pipline from new search term to summary of topics based on LDA model\n",
    "# for the search term mitochondria\n",
    "mito_abstracts = get_abstracts('mitochondria', 20)\n",
    "mito_corpus = abstracts_to_corpus(mito_abstracts)\n",
    "print_top_topics(mito_corpus, 20)"
   ]
  },
  {
   "cell_type": "code",
   "execution_count": 189,
   "metadata": {},
   "outputs": [
    {
     "name": "stderr",
     "output_type": "stream",
     "text": [
      "/anaconda3/lib/python3.6/site-packages/pyLDAvis/_prepare.py:257: FutureWarning: Sorting because non-concatenation axis is not aligned. A future version\n",
      "of pandas will change to not sort by default.\n",
      "\n",
      "To accept the future behavior, pass 'sort=False'.\n",
      "\n",
      "To retain the current behavior and silence the warning, pass 'sort=True'.\n",
      "\n",
      "  return pd.concat([default_term_info] + list(topic_dfs))\n"
     ]
    }
   ],
   "source": [
    "# Visualization for LDA topics sent to lda.html\n",
    "pyLDAvis.enable_notebook()\n",
    "vis = gensimvis.prepare(lda_model, corpus, id2word)\n",
    "pyLDAvis.save_html(vis, 'lda.html')"
   ]
  },
  {
   "cell_type": "code",
   "execution_count": null,
   "metadata": {},
   "outputs": [],
   "source": []
  }
 ],
 "metadata": {
  "kernelspec": {
   "display_name": "Python 3",
   "language": "python",
   "name": "python3"
  },
  "language_info": {
   "codemirror_mode": {
    "name": "ipython",
    "version": 3
   },
   "file_extension": ".py",
   "mimetype": "text/x-python",
   "name": "python",
   "nbconvert_exporter": "python",
   "pygments_lexer": "ipython3",
   "version": "3.6.5"
  }
 },
 "nbformat": 4,
 "nbformat_minor": 2
}
