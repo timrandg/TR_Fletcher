{
 "cells": [
  {
   "cell_type": "markdown",
   "metadata": {},
   "source": [
    "1. Enter a molecule.\n",
    "2. Pubmed-w2v is used to find the highest scoring associated terms. This list is enriched for molecules in the pathway. But has many synonyms that would create redundant nodes. \n",
    "3. Use the nomenclature-accepted list to find the best molecular names. All alternative names are likely redundat to the best name, which we will pick up. We can store the missed terms as synonyms for nodes on the network (but not add them to the graph). \n",
    "4. Generate the graph. "
   ]
  },
  {
   "cell_type": "code",
   "execution_count": null,
   "metadata": {},
   "outputs": [],
   "source": []
  }
 ],
 "metadata": {
  "kernelspec": {
   "display_name": "Python 3",
   "language": "python",
   "name": "python3"
  },
  "language_info": {
   "codemirror_mode": {
    "name": "ipython",
    "version": 3
   },
   "file_extension": ".py",
   "mimetype": "text/x-python",
   "name": "python",
   "nbconvert_exporter": "python",
   "pygments_lexer": "ipython3",
   "version": "3.7.0"
  }
 },
 "nbformat": 4,
 "nbformat_minor": 2
}
