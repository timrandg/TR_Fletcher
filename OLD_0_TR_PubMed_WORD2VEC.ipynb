{
 "cells": [
  {
   "cell_type": "markdown",
   "metadata": {},
   "source": [
    "# WORD2VEC\n",
    "\n",
    "## Working with Word2Vec with Gensim\n"
   ]
  },
  {
   "cell_type": "markdown",
   "metadata": {},
   "source": [
    "### Objectives\n",
    "- Visualize word vectorization\n",
    "- Prepare gensim environment\n",
    "- Fit word2vec models\n",
    "- Interpret latent variables/vectors\n",
    "- Find similar words and word pairs\n",
    "- Use externally-trained matrices of latent features"
   ]
  },
  {
   "cell_type": "markdown",
   "metadata": {},
   "source": [
    "We have been working with a number of techniques and tools that help us navigate the world of NLP. For example, we have CountVectorizer:"
   ]
  },
  {
   "cell_type": "code",
   "execution_count": 1,
   "metadata": {},
   "outputs": [
    {
     "data": {
      "text/html": [
       "<div>\n",
       "<style scoped>\n",
       "    .dataframe tbody tr th:only-of-type {\n",
       "        vertical-align: middle;\n",
       "    }\n",
       "\n",
       "    .dataframe tbody tr th {\n",
       "        vertical-align: top;\n",
       "    }\n",
       "\n",
       "    .dataframe thead th {\n",
       "        text-align: right;\n",
       "    }\n",
       "</style>\n",
       "<table border=\"1\" class=\"dataframe\">\n",
       "  <thead>\n",
       "    <tr style=\"text-align: right;\">\n",
       "      <th></th>\n",
       "      <th>above</th>\n",
       "      <th>above all</th>\n",
       "      <th>all</th>\n",
       "      <th>all to</th>\n",
       "      <th>be</th>\n",
       "      <th>be true</th>\n",
       "      <th>come</th>\n",
       "      <th>come to</th>\n",
       "      <th>denmark</th>\n",
       "      <th>in</th>\n",
       "      <th>...</th>\n",
       "      <th>the</th>\n",
       "      <th>the state</th>\n",
       "      <th>thine</th>\n",
       "      <th>thine own</th>\n",
       "      <th>this</th>\n",
       "      <th>this above</th>\n",
       "      <th>to</th>\n",
       "      <th>to thine</th>\n",
       "      <th>to this</th>\n",
       "      <th>true</th>\n",
       "    </tr>\n",
       "  </thead>\n",
       "  <tbody>\n",
       "    <tr>\n",
       "      <th>0</th>\n",
       "      <td>0</td>\n",
       "      <td>0</td>\n",
       "      <td>0</td>\n",
       "      <td>0</td>\n",
       "      <td>0</td>\n",
       "      <td>0</td>\n",
       "      <td>1</td>\n",
       "      <td>1</td>\n",
       "      <td>0</td>\n",
       "      <td>0</td>\n",
       "      <td>...</td>\n",
       "      <td>0</td>\n",
       "      <td>0</td>\n",
       "      <td>0</td>\n",
       "      <td>0</td>\n",
       "      <td>1</td>\n",
       "      <td>0</td>\n",
       "      <td>1</td>\n",
       "      <td>0</td>\n",
       "      <td>1</td>\n",
       "      <td>0</td>\n",
       "    </tr>\n",
       "    <tr>\n",
       "      <th>1</th>\n",
       "      <td>1</td>\n",
       "      <td>1</td>\n",
       "      <td>1</td>\n",
       "      <td>1</td>\n",
       "      <td>1</td>\n",
       "      <td>1</td>\n",
       "      <td>0</td>\n",
       "      <td>0</td>\n",
       "      <td>0</td>\n",
       "      <td>0</td>\n",
       "      <td>...</td>\n",
       "      <td>0</td>\n",
       "      <td>0</td>\n",
       "      <td>1</td>\n",
       "      <td>1</td>\n",
       "      <td>1</td>\n",
       "      <td>1</td>\n",
       "      <td>1</td>\n",
       "      <td>1</td>\n",
       "      <td>0</td>\n",
       "      <td>1</td>\n",
       "    </tr>\n",
       "    <tr>\n",
       "      <th>2</th>\n",
       "      <td>0</td>\n",
       "      <td>0</td>\n",
       "      <td>0</td>\n",
       "      <td>0</td>\n",
       "      <td>0</td>\n",
       "      <td>0</td>\n",
       "      <td>0</td>\n",
       "      <td>0</td>\n",
       "      <td>1</td>\n",
       "      <td>1</td>\n",
       "      <td>...</td>\n",
       "      <td>1</td>\n",
       "      <td>1</td>\n",
       "      <td>0</td>\n",
       "      <td>0</td>\n",
       "      <td>0</td>\n",
       "      <td>0</td>\n",
       "      <td>0</td>\n",
       "      <td>0</td>\n",
       "      <td>0</td>\n",
       "      <td>0</td>\n",
       "    </tr>\n",
       "  </tbody>\n",
       "</table>\n",
       "<p>3 rows × 40 columns</p>\n",
       "</div>"
      ],
      "text/plain": [
       "   above  above all  all  all to  be  be true  come  come to  denmark  in  \\\n",
       "0      0          0    0       0   0        0     1        1        0   0   \n",
       "1      1          1    1       1   1        1     0        0        0   0   \n",
       "2      0          0    0       0   0        0     0        0        1   1   \n",
       "\n",
       "   ...   the  the state  thine  thine own  this  this above  to  to thine  \\\n",
       "0  ...     0          0      0          0     1           0   1         0   \n",
       "1  ...     0          0      1          1     1           1   1         1   \n",
       "2  ...     1          1      0          0     0           0   0         0   \n",
       "\n",
       "   to this  true  \n",
       "0        1     0  \n",
       "1        0     1  \n",
       "2        0     0  \n",
       "\n",
       "[3 rows x 40 columns]"
      ]
     },
     "execution_count": 1,
     "metadata": {},
     "output_type": "execute_result"
    }
   ],
   "source": [
    "%matplotlib inline\n",
    "import pandas as pd\n",
    "from sklearn.feature_extraction.text import CountVectorizer\n",
    "import seaborn as sns  \n",
    "import numpy as np\n",
    "import matplotlib.pyplot as plt\n",
    "\n",
    "text = ['That is should come to this!', 'This above all: to thine own self be true.', 'Something is rotten in the state of Denmark.']\n",
    "vectorizer = CountVectorizer(ngram_range=(1,2))\n",
    "\n",
    "vectorizer.fit(text)\n",
    "x = vectorizer.transform(text)\n",
    "x_back = x.toarray()\n",
    "\n",
    "pd.DataFrame(x_back, columns=vectorizer.get_feature_names())"
   ]
  },
  {
   "cell_type": "markdown",
   "metadata": {},
   "source": [
    ">An adverse trait about the Bag of Words model: Word context and semantic meaning does not play a role.\n",
    "\n",
    ">But then came Word2Vec!\n",
    "\n",
    ">We will see that with Word2Vec, context does play a role and it can decipher relationships between words."
   ]
  },
  {
   "cell_type": "code",
   "execution_count": 2,
   "metadata": {},
   "outputs": [
    {
     "data": {
      "image/png": "[encoded data removed]",
      "text/plain": [
       "<Figure size 432x288 with 1 Axes>"
      ]
     },
     "metadata": {
      "needs_background": "light"
     },
     "output_type": "display_data"
    }
   ],
   "source": [
    "words = ['king','queen', 'man', 'woman']  \n",
    "\n",
    "vectors = np.array([[0.6,   0.8], \n",
    "                    [0.8, 0.6],\n",
    "                   [.2,.4],[.4,.2]]\n",
    "                 ) \n",
    "\n",
    "plt.plot(vectors[:,0], vectors[:,1], 'o')  \n",
    "plt.xlim(0, 1.5)  \n",
    "plt.ylim(0, 1.5)  \n",
    "for word, x, y in zip(words, vectors[:,0], vectors[:,1]):  \n",
    "    plt.annotate(word, (x, y), size=12)"
   ]
  },
  {
   "cell_type": "markdown",
   "metadata": {},
   "source": [
    "More examples:\n",
    "![](https://www.tensorflow.org/images/linear-relationships.png)"
   ]
  },
  {
   "cell_type": "markdown",
   "metadata": {},
   "source": [
    "## First things first :\n",
    "\n",
    "**1) Install Gensim: **\n",
    "\n",
    "pip install gensim\n",
    "\n",
    "**  2)  Make sure cython is installed ? **\n",
    "\n",
    "cython -V\n",
    "\n",
    "(if no cython):\n",
    "\n",
    "pip install cython\n",
    "\n",
    "\n",
    "** 3) test (Run the sample code in following cell) **\n"
   ]
  },
  {
   "cell_type": "code",
   "execution_count": 3,
   "metadata": {},
   "outputs": [
    {
     "name": "stdout",
     "output_type": "stream",
     "text": [
      "[['will', 'this', 'work?', \"i'm\", 'not', 'sure.', 'if', 'not', 'go', 'to', 'step', '#4', '(above)']]\n"
     ]
    }
   ],
   "source": [
    "import gensim\n",
    "\n",
    "\n",
    "documents = [\"Will this work?  I'm not sure.  If not go to step #4 (above)\"]\n",
    "\n",
    "#turn document into a list of words, remove puncutation\n",
    "texts = [[word for word in document.lower().split()]\n",
    "         for document in documents]\n",
    "\n",
    "print (texts)\n",
    "\n",
    "#train our own model off our small document corpora :(\n",
    "model = gensim.models.Word2Vec(texts, size=100, window=5, min_count=1, workers=4,sg=1)"
   ]
  },
  {
   "cell_type": "markdown",
   "metadata": {},
   "source": [
    "\n",
    "**4) If you see the following error : \"UserWarning: C extension not loaded for Word2Vec\"**\n",
    "\n",
    "\n",
    "Do the following:\n",
    "\n",
    "1.  pip uninstall gensim\n",
    "2.  pip uninstall scipy \n",
    "\n",
    "3. pip install --no-cache-dir scipy==0.15.1\n",
    "4. pip install --no-cache-dir gensim==0.12.1\n",
    "\n",
    "\n",
    "**Refer to the following:** https://groups.google.com/forum/#!topic/gensim/isBqIhrw9mk"
   ]
  },
  {
   "cell_type": "code",
   "execution_count": 4,
   "metadata": {},
   "outputs": [],
   "source": [
    "# A 'Gensim' example: \n",
    "\n",
    "documents = [\"Human machine interface for lab abc computer applications\",\n",
    "             \"A survey of user opinion of computer system response time\",\n",
    "             \"The EPS user interface management system\",\n",
    "             \"System and human system engineering testing of EPS\",\n",
    "              \"Relation of user perceived response time to error measurement\",\n",
    "              \"The generation of random binary unordered trees\",\n",
    "              \"The intersection graph of paths in trees\",\n",
    "              \"Graph minors IV Widths of trees and well quasi ordering\",\n",
    "              \"Graph minors A survey\"]"
   ]
  },
  {
   "cell_type": "markdown",
   "metadata": {},
   "source": [
    "## Word2Vec Preprocessing\n",
    "\n",
    "1. Tokenization   \n",
    "2. Remove stop words    \n",
    "3. Convert to lowercase     \n",
    "4. Others: stemming.. "
   ]
  },
  {
   "cell_type": "code",
   "execution_count": 5,
   "metadata": {
    "run_control": {
     "marked": true
    }
   },
   "outputs": [
    {
     "name": "stdout",
     "output_type": "stream",
     "text": [
      "[['human', 'machine', 'interface', 'lab', 'abc', 'computer', 'applications'], ['survey', 'user', 'opinion', 'computer', 'system', 'response', 'time'], ['eps', 'user', 'interface', 'management', 'system'], ['system', 'human', 'system', 'engineering', 'testing', 'eps'], ['relation', 'user', 'perceived', 'response', 'time', 'error', 'measurement'], ['generation', 'random', 'binary', 'unordered', 'trees'], ['intersection', 'graph', 'paths', 'trees'], ['graph', 'minors', 'iv', 'widths', 'trees', 'well', 'quasi', 'ordering'], ['graph', 'minors', 'survey']]\n"
     ]
    }
   ],
   "source": [
    "# The type of input that Word2Vec is looking for.. \n",
    "stoplist = set('for a of the and to in'.split())\n",
    "texts = [[word for word in document.lower().split() if word not in stoplist]\n",
    "         for document in documents]\n",
    "\n",
    "print (texts)"
   ]
  },
  {
   "cell_type": "markdown",
   "metadata": {},
   "source": [
    "###  2: Word Representation\n",
    "\n",
    "Learn a continuous representation of words.\n",
    "Each word (w) is associated with it's own word vector"
   ]
  },
  {
   "cell_type": "code",
   "execution_count": 6,
   "metadata": {},
   "outputs": [],
   "source": [
    "import gensim  # using skip-gram\n",
    "\n",
    "model = gensim.models.Word2Vec(texts, size=100, window=5, min_count=1, workers=2, sg=1)"
   ]
  },
  {
   "cell_type": "markdown",
   "metadata": {},
   "source": [
    "[See Wiki on arguments](https://en.wikipedia.org/wiki/Word2vec)\n",
    "\n",
    "A Word2vec model can be trained with hierarchical softmax and/or negative sampling. To approximate the conditional log-likelihood a model seeks to maximize, the hierarchical softmax method uses a Huffman tree to reduce calculation. The negative sampling method, on the other hand, approaches the maximization problem by minimizing the log-likelihood of sampled negative instances. According to the authors, hierarchical softmax works better for infrequent words while negative sampling works better for frequent words and better with low dimensional vectors. As training epochs increase, hierarchical softmax stops being useful.\n",
    "\n",
    "The size of the context window determines how many words before and after a given word would be included as context words of the given word. The recommended value is 10 for skip-gram and 5 for CBOW."
   ]
  },
  {
   "cell_type": "code",
   "execution_count": 7,
   "metadata": {},
   "outputs": [
    {
     "data": {
      "text/plain": [
       "[('human', <gensim.models.keyedvectors.Vocab at 0x1a1fa014e0>),\n",
       " ('machine', <gensim.models.keyedvectors.Vocab at 0x1a1f323518>),\n",
       " ('interface', <gensim.models.keyedvectors.Vocab at 0x1a20850c18>),\n",
       " ('lab', <gensim.models.keyedvectors.Vocab at 0x10d09fc88>),\n",
       " ('abc', <gensim.models.keyedvectors.Vocab at 0x10d09f8d0>),\n",
       " ('computer', <gensim.models.keyedvectors.Vocab at 0x10d0a85f8>),\n",
       " ('applications', <gensim.models.keyedvectors.Vocab at 0x10d0a8ac8>)]"
      ]
     },
     "execution_count": 7,
     "metadata": {},
     "output_type": "execute_result"
    }
   ],
   "source": [
    "# take a look at vocab\n",
    "list(model.wv.vocab.items())[:7]"
   ]
  },
  {
   "cell_type": "code",
   "execution_count": 8,
   "metadata": {
    "scrolled": true
   },
   "outputs": [
    {
     "name": "stderr",
     "output_type": "stream",
     "text": [
      "/Users/timrand/anaconda3/lib/python3.7/site-packages/ipykernel_launcher.py:2: DeprecationWarning: Call to deprecated `__getitem__` (Method will be removed in 4.0.0, use self.wv.__getitem__() instead).\n",
      "  \n"
     ]
    },
    {
     "data": {
      "text/plain": [
       "array([ 1.9056784e-04,  2.6331816e-03, -4.5844503e-03,  2.3561271e-03,\n",
       "        4.9920352e-03,  8.6510717e-04, -9.6040225e-04, -1.5680060e-03,\n",
       "       -3.5313703e-03, -1.3062753e-03,  3.2207731e-03, -3.3274919e-03,\n",
       "       -2.6567336e-03,  4.6249432e-03, -4.3160920e-03,  4.1824579e-03,\n",
       "        4.4141030e-03, -1.8255849e-03, -1.7649719e-03, -2.0514419e-03,\n",
       "       -1.5970413e-03, -2.4080781e-04, -1.2689905e-03, -4.1478057e-03,\n",
       "       -4.2156456e-03,  4.7142934e-03, -2.4252262e-03,  1.9159009e-03,\n",
       "        1.5217380e-03, -3.9557791e-03, -3.3369930e-03,  1.9593821e-03,\n",
       "       -4.2326646e-03,  2.7611412e-03,  3.7088827e-03, -4.0809829e-03,\n",
       "        3.8485378e-03, -2.1606151e-03, -1.5226426e-03,  1.7767620e-03,\n",
       "       -3.0476108e-04, -1.2119826e-03, -2.5951511e-03,  2.1766273e-03,\n",
       "       -4.8982706e-03,  2.5002356e-03, -1.0236120e-03,  3.4836340e-03,\n",
       "        4.5883209e-03, -1.9338509e-03,  2.2743291e-03,  2.1312912e-03,\n",
       "        8.1261771e-04, -5.1826652e-04,  4.8021958e-03,  2.5840544e-03,\n",
       "       -2.7738954e-03, -1.2568493e-03,  1.9061750e-03,  1.9408258e-03,\n",
       "       -2.7190764e-03, -1.6602994e-03, -3.6392454e-04,  3.1896115e-03,\n",
       "        1.4943709e-03,  2.6032829e-03,  3.1360320e-04,  3.0270498e-03,\n",
       "        2.9490741e-03, -1.9643377e-03, -2.6502500e-03, -1.4519179e-03,\n",
       "        2.9255250e-03,  1.1423385e-04, -1.1164844e-03, -1.8775811e-03,\n",
       "       -1.9832978e-03, -4.0218770e-03,  2.2604149e-03,  2.3343470e-03,\n",
       "       -4.2669498e-03,  3.0297376e-03,  1.0398212e-03,  2.2972168e-03,\n",
       "        4.4181040e-03,  2.2596561e-03, -5.0082534e-05, -4.9576769e-03,\n",
       "       -2.4894197e-03, -3.9227917e-03,  3.5837367e-03,  1.3519273e-03,\n",
       "        2.9711055e-03,  2.8572333e-04, -4.8469771e-03,  3.4702716e-03,\n",
       "        4.1044862e-03,  3.7776802e-03, -5.0157309e-04, -4.9259509e-03],\n",
       "      dtype=float32)"
      ]
     },
     "execution_count": 8,
     "metadata": {},
     "output_type": "execute_result"
    }
   ],
   "source": [
    "#  and voila, we have our word vector \n",
    "model['trees']"
   ]
  },
  {
   "cell_type": "markdown",
   "metadata": {},
   "source": [
    "###  What do we have? Word Embeddings \n",
    "\n",
    "**A word embedding W : words → ℝn **\n",
    "\n",
    "The output above is the result of 'word' projections in a latent space\n",
    "of N dimensions, (N ~ size of NN layer we chose).     \n",
    "Our float values above represent the coordinates for the word 'computer' in our 100-dimensional space!\n",
    "\n",
    "Our high dimensional vectors stand in place for words.    \n",
    "Note, that these dimensions are encoding 'latent' properties for 'computer' (such that 'queen' will be geometrically closer to 'king' than it would to be to (let's say) 'computer'. \n",
    "\n",
    "Word Embeddings are useful because:\n",
    "\n",
    "1.  We can measure the semantic similarity between two words\n",
    "2.  We can use these word vectors as features for various NLP supervised learning tasks (such as classification, sentiment analysis). "
   ]
  },
  {
   "cell_type": "markdown",
   "metadata": {},
   "source": [
    "## Skip-Gram Methods: \n",
    "\n",
    "#### Skip-Gram example sentence:\n",
    "\n",
    ">\"We are on the cusp of deep learning for the masses\"\n",
    "\n",
    "For Context Window = 2:\n",
    "\n",
    "*We could get the following training examples: (Where target word is __bolded__) *\n",
    "\n",
    "\n",
    "__We__ are on \n",
    "\n",
    "We __are__ on the\n",
    "\n",
    "We are __on__ the cusp\n",
    "\n",
    "\n",
    "#### What's happening underneath the hood?:\n",
    "We have input of skip-gram is a single word (Wi) **'learning'**, we will determine the probability of seeing the words (Wo) : 'of','deep', 'for','the'.\n",
    "\n",
    "1. Transform our vobabulary into a 'bag of indices'\n",
    "\n",
    "2. One-hot encode (input vectors) \n",
    "\n",
    "3. Randomly initialize the Weight Vectors\n",
    "\n",
    "4. Get dot product: (Input vector.InputWeightMatrix) ~ (this is just the weight vector for 'learning')\n",
    "\n",
    "5. Get dot product:  ('learning' weight vector).(Output Weight Matrix) \n",
    "\n",
    "6. Calculate Softmax probabilities:\n",
    "    - What is the probability of 'seeing' the word 'deep' given that we've seen the word 'learning'?  -- >  Using SGD together with softmax regression, we will maximize the probability for 'deep' \n",
    "    - P(Wo|Wi) = (exp(Wi.Wo)/ sum(exp(Wi.Woj)   (sum~ sum of all Woj for all j in Vocabulary)\n",
    "\n",
    "7. As always, we update our Weight matrix to reduce our errors:\n",
    "    - Wi=Wi-a*ej*Wo\n",
    "\n",
    "8. Repeat...\n",
    "\n",
    "\n",
    "<img src='img/skip_gram.png'/>"
   ]
  },
  {
   "cell_type": "markdown",
   "metadata": {},
   "source": [
    "\n",
    "### CBOW: \n",
    "\n",
    "\n",
    "CBOW: very similiar model with the inputs & outputs reversed.  The input layer consists of our word window \n",
    "\n",
    "<img src='img/CBOW.png'/>\n",
    "\n"
   ]
  },
  {
   "cell_type": "markdown",
   "metadata": {},
   "source": [
    "### Let's work with a corpus from NLTK"
   ]
  },
  {
   "cell_type": "code",
   "execution_count": 9,
   "metadata": {},
   "outputs": [],
   "source": [
    "# WARNING: Use Scroll bar with NLTK download... or else?\n",
    "import nltk\n",
    "#nltk.download()"
   ]
  },
  {
   "cell_type": "code",
   "execution_count": 10,
   "metadata": {},
   "outputs": [
    {
     "name": "stdout",
     "output_type": "stream",
     "text": [
      "showing info https://raw.githubusercontent.com/nltk/nltk_data/gh-pages/index.xml\n"
     ]
    },
    {
     "data": {
      "text/plain": [
       "True"
      ]
     },
     "execution_count": 10,
     "metadata": {},
     "output_type": "execute_result"
    }
   ],
   "source": [
    "nltk.download()"
   ]
  },
  {
   "cell_type": "code",
   "execution_count": 11,
   "metadata": {},
   "outputs": [],
   "source": [
    "# Build corpus from \n",
    "import os\n",
    "from nltk.corpus import stopwords\n",
    "import re\n",
    "\n",
    "stop = stopwords.words('english')\n",
    "stop+=['?','!','.',',',':',';']\n",
    "\n",
    "#[\n",
    "#\"weren't\",\n",
    "# 'won',\n",
    "# \"won't\",\n",
    "# 'wouldn',\n",
    "# \"wouldn't\",\n",
    "# '?',\n",
    "# '!',\n",
    "# '.',\n",
    "# ',',\n",
    "# ':',\n",
    "# ';']\n",
    "\n",
    "#creating our iterator\n",
    "\n",
    "\n",
    "# An Illustration.. \n",
    "\n",
    "import os\n",
    "\n",
    "class MySentences(object):\n",
    "    # a memory-friendly way to load a large corpora\n",
    "     def __init__(self, dirname):\n",
    "            self.dirname = dirname\n",
    " \n",
    "     def __iter__(self):\n",
    "        # iterate through all file names in our directory\n",
    "         for fname in os.listdir(self.dirname):\n",
    "                for line in open(os.path.join(self.dirname, fname), encoding=\"ISO-8859-1\"):\n",
    "                    word=line.lower().split()\n",
    "                    if word not in stop:\n",
    "                        yield word\n",
    "\n",
    "sentences = MySentences('/Users/timrand/nltk_data/corpora/gutenberg') \n",
    "model = gensim.models.Word2Vec(sentences,size=100,min_count=3,workers=4)"
   ]
  },
  {
   "cell_type": "code",
   "execution_count": null,
   "metadata": {},
   "outputs": [],
   "source": []
  },
  {
   "cell_type": "markdown",
   "metadata": {},
   "source": [
    "You'll notice the following examples aren't great: the modeling is learning from a small dataset of gutenberg books. We'll use a better model in the next section with superior results."
   ]
  },
  {
   "cell_type": "code",
   "execution_count": 12,
   "metadata": {},
   "outputs": [
    {
     "name": "stderr",
     "output_type": "stream",
     "text": [
      "/Users/timrand/anaconda3/lib/python3.7/site-packages/ipykernel_launcher.py:1: DeprecationWarning: Call to deprecated `most_similar` (Method will be removed in 4.0.0, use self.wv.most_similar() instead).\n",
      "  \"\"\"Entry point for launching an IPython kernel.\n",
      "/Users/timrand/anaconda3/lib/python3.7/site-packages/gensim/matutils.py:737: FutureWarning: Conversion of the second argument of issubdtype from `int` to `np.signedinteger` is deprecated. In future, it will be treated as `np.int64 == np.dtype(int).type`.\n",
      "  if np.issubdtype(vec.dtype, np.int):\n"
     ]
    },
    {
     "data": {
      "text/plain": [
       "[('door,', 0.9188751578330994),\n",
       " ('gate', 0.8850337862968445),\n",
       " ('top', 0.871757984161377),\n",
       " ('mount', 0.8664511442184448),\n",
       " ('window', 0.8628943562507629),\n",
       " ('table,', 0.8590527772903442),\n",
       " ('window,', 0.8446979522705078),\n",
       " ('cloud', 0.8374819159507751)]"
      ]
     },
     "execution_count": 12,
     "metadata": {},
     "output_type": "execute_result"
    }
   ],
   "source": [
    "model.most_similar('door' ,topn=8)"
   ]
  },
  {
   "cell_type": "code",
   "execution_count": 14,
   "metadata": {},
   "outputs": [
    {
     "name": "stderr",
     "output_type": "stream",
     "text": [
      "/Users/timrand/anaconda3/lib/python3.7/site-packages/ipykernel_launcher.py:3: DeprecationWarning: Call to deprecated `most_similar` (Method will be removed in 4.0.0, use self.wv.most_similar() instead).\n",
      "  This is separate from the ipykernel package so we can avoid doing imports until\n",
      "/Users/timrand/anaconda3/lib/python3.7/site-packages/gensim/matutils.py:737: FutureWarning: Conversion of the second argument of issubdtype from `int` to `np.signedinteger` is deprecated. In future, it will be treated as `np.int64 == np.dtype(int).type`.\n",
      "  if np.issubdtype(vec.dtype, np.int):\n"
     ]
    },
    {
     "data": {
      "text/plain": [
       "[('plate', 0.9383689761161804),\n",
       " ('floor,', 0.937893271446228),\n",
       " ('rock,', 0.9336166381835938),\n",
       " ('paper', 0.9298900961875916),\n",
       " ('crowd', 0.9280639886856079),\n",
       " ('temple.', 0.9261654615402222),\n",
       " ('carrying', 0.925046443939209),\n",
       " ('advancing', 0.9244281649589539),\n",
       " ('contents', 0.9243518114089966),\n",
       " ('neck', 0.9242267608642578)]"
      ]
     },
     "execution_count": 14,
     "metadata": {},
     "output_type": "execute_result"
    }
   ],
   "source": [
    "# Similarity\n",
    "\n",
    "model.most_similar('rock')"
   ]
  },
  {
   "cell_type": "code",
   "execution_count": 13,
   "metadata": {},
   "outputs": [
    {
     "name": "stderr",
     "output_type": "stream",
     "text": [
      "/Users/timrand/anaconda3/lib/python3.7/site-packages/ipykernel_launcher.py:4: DeprecationWarning: Call to deprecated `n_similarity` (Method will be removed in 4.0.0, use self.wv.n_similarity() instead).\n",
      "  after removing the cwd from sys.path.\n",
      "/Users/timrand/anaconda3/lib/python3.7/site-packages/gensim/matutils.py:737: FutureWarning: Conversion of the second argument of issubdtype from `int` to `np.signedinteger` is deprecated. In future, it will be treated as `np.int64 == np.dtype(int).type`.\n",
      "  if np.issubdtype(vec.dtype, np.int):\n"
     ]
    },
    {
     "data": {
      "text/plain": [
       "0.87206644"
      ]
     },
     "execution_count": 13,
     "metadata": {},
     "output_type": "execute_result"
    }
   ],
   "source": [
    "# Compute cosine_similarity\n",
    "\n",
    "#takes the mean and then the cosine distance\n",
    "model.n_similarity(['bread', 'dog'], ['cat', 'dog'])"
   ]
  },
  {
   "cell_type": "code",
   "execution_count": 16,
   "metadata": {},
   "outputs": [
    {
     "name": "stderr",
     "output_type": "stream",
     "text": [
      "/Users/timrand/anaconda3/lib/python3.7/site-packages/ipykernel_launcher.py:1: DeprecationWarning: Call to deprecated `doesnt_match` (Method will be removed in 4.0.0, use self.wv.doesnt_match() instead).\n",
      "  \"\"\"Entry point for launching an IPython kernel.\n",
      "/Users/timrand/anaconda3/lib/python3.7/site-packages/gensim/matutils.py:737: FutureWarning: Conversion of the second argument of issubdtype from `int` to `np.signedinteger` is deprecated. In future, it will be treated as `np.int64 == np.dtype(int).type`.\n",
      "  if np.issubdtype(vec.dtype, np.int):\n"
     ]
    },
    {
     "data": {
      "text/plain": [
       "'explore'"
      ]
     },
     "execution_count": 16,
     "metadata": {},
     "output_type": "execute_result"
    }
   ],
   "source": [
    "model.doesnt_match(\"cat pig dog cow explore\".split())"
   ]
  },
  {
   "cell_type": "markdown",
   "metadata": {},
   "source": [
    "## More Data = Better:\n",
    "#### Let's work with Google's pre-trained [Word2Vect Model](https://drive.google.com/file/d/0B7XkCwpI5KDYNlNUTTlSS21pQmM/edit)"
   ]
  },
  {
   "cell_type": "code",
   "execution_count": 17,
   "metadata": {
    "collapsed": true
   },
   "outputs": [
    {
     "name": "stdout",
     "output_type": "stream",
     "text": [
      "showing info https://raw.githubusercontent.com/nltk/nltk_data/gh-pages/index.xml\n"
     ]
    },
    {
     "ename": "KeyboardInterrupt",
     "evalue": "",
     "output_type": "error",
     "traceback": [
      "\u001b[0;31m---------------------------------------------------------------------------\u001b[0m",
      "\u001b[0;31mKeyboardInterrupt\u001b[0m                         Traceback (most recent call last)",
      "\u001b[0;32m<ipython-input-17-6e230a00a763>\u001b[0m in \u001b[0;36m<module>\u001b[0;34m()\u001b[0m\n\u001b[0;32m----> 1\u001b[0;31m \u001b[0mnltk\u001b[0m\u001b[0;34m.\u001b[0m\u001b[0mdownload\u001b[0m\u001b[0;34m(\u001b[0m\u001b[0;34m)\u001b[0m\u001b[0;34m\u001b[0m\u001b[0m\n\u001b[0m",
      "\u001b[0;32m~/anaconda3/lib/python3.7/site-packages/nltk/downloader.py\u001b[0m in \u001b[0;36mdownload\u001b[0;34m(self, info_or_id, download_dir, quiet, force, prefix, halt_on_error, raise_on_error)\u001b[0m\n\u001b[1;32m    659\u001b[0m             \u001b[0;31m# function should make a new copy of self to use?\u001b[0m\u001b[0;34m\u001b[0m\u001b[0;34m\u001b[0m\u001b[0m\n\u001b[1;32m    660\u001b[0m             \u001b[0;32mif\u001b[0m \u001b[0mdownload_dir\u001b[0m \u001b[0;32mis\u001b[0m \u001b[0;32mnot\u001b[0m \u001b[0;32mNone\u001b[0m\u001b[0;34m:\u001b[0m \u001b[0mself\u001b[0m\u001b[0;34m.\u001b[0m\u001b[0m_download_dir\u001b[0m \u001b[0;34m=\u001b[0m \u001b[0mdownload_dir\u001b[0m\u001b[0;34m\u001b[0m\u001b[0m\n\u001b[0;32m--> 661\u001b[0;31m             \u001b[0mself\u001b[0m\u001b[0;34m.\u001b[0m\u001b[0m_interactive_download\u001b[0m\u001b[0;34m(\u001b[0m\u001b[0;34m)\u001b[0m\u001b[0;34m\u001b[0m\u001b[0m\n\u001b[0m\u001b[1;32m    662\u001b[0m             \u001b[0;32mreturn\u001b[0m \u001b[0;32mTrue\u001b[0m\u001b[0;34m\u001b[0m\u001b[0m\n\u001b[1;32m    663\u001b[0m \u001b[0;34m\u001b[0m\u001b[0m\n",
      "\u001b[0;32m~/anaconda3/lib/python3.7/site-packages/nltk/downloader.py\u001b[0m in \u001b[0;36m_interactive_download\u001b[0;34m(self)\u001b[0m\n\u001b[1;32m    980\u001b[0m         \u001b[0;32mif\u001b[0m \u001b[0mTKINTER\u001b[0m\u001b[0;34m:\u001b[0m\u001b[0;34m\u001b[0m\u001b[0m\n\u001b[1;32m    981\u001b[0m             \u001b[0;32mtry\u001b[0m\u001b[0;34m:\u001b[0m\u001b[0;34m\u001b[0m\u001b[0m\n\u001b[0;32m--> 982\u001b[0;31m                 \u001b[0mDownloaderGUI\u001b[0m\u001b[0;34m(\u001b[0m\u001b[0mself\u001b[0m\u001b[0;34m)\u001b[0m\u001b[0;34m.\u001b[0m\u001b[0mmainloop\u001b[0m\u001b[0;34m(\u001b[0m\u001b[0;34m)\u001b[0m\u001b[0;34m\u001b[0m\u001b[0m\n\u001b[0m\u001b[1;32m    983\u001b[0m             \u001b[0;32mexcept\u001b[0m \u001b[0mTclError\u001b[0m\u001b[0;34m:\u001b[0m\u001b[0;34m\u001b[0m\u001b[0m\n\u001b[1;32m    984\u001b[0m                 \u001b[0mDownloaderShell\u001b[0m\u001b[0;34m(\u001b[0m\u001b[0mself\u001b[0m\u001b[0;34m)\u001b[0m\u001b[0;34m.\u001b[0m\u001b[0mrun\u001b[0m\u001b[0;34m(\u001b[0m\u001b[0;34m)\u001b[0m\u001b[0;34m\u001b[0m\u001b[0m\n",
      "\u001b[0;32m~/anaconda3/lib/python3.7/site-packages/nltk/downloader.py\u001b[0m in \u001b[0;36mmainloop\u001b[0;34m(self, *args, **kwargs)\u001b[0m\n\u001b[1;32m   1715\u001b[0m \u001b[0;34m\u001b[0m\u001b[0m\n\u001b[1;32m   1716\u001b[0m     \u001b[0;32mdef\u001b[0m \u001b[0mmainloop\u001b[0m\u001b[0;34m(\u001b[0m\u001b[0mself\u001b[0m\u001b[0;34m,\u001b[0m \u001b[0;34m*\u001b[0m\u001b[0margs\u001b[0m\u001b[0;34m,\u001b[0m \u001b[0;34m**\u001b[0m\u001b[0mkwargs\u001b[0m\u001b[0;34m)\u001b[0m\u001b[0;34m:\u001b[0m\u001b[0;34m\u001b[0m\u001b[0m\n\u001b[0;32m-> 1717\u001b[0;31m         \u001b[0mself\u001b[0m\u001b[0;34m.\u001b[0m\u001b[0mtop\u001b[0m\u001b[0;34m.\u001b[0m\u001b[0mmainloop\u001b[0m\u001b[0;34m(\u001b[0m\u001b[0;34m*\u001b[0m\u001b[0margs\u001b[0m\u001b[0;34m,\u001b[0m \u001b[0;34m**\u001b[0m\u001b[0mkwargs\u001b[0m\u001b[0;34m)\u001b[0m\u001b[0;34m\u001b[0m\u001b[0m\n\u001b[0m\u001b[1;32m   1718\u001b[0m \u001b[0;34m\u001b[0m\u001b[0m\n\u001b[1;32m   1719\u001b[0m     \u001b[0;31m#/////////////////////////////////////////////////////////////////\u001b[0m\u001b[0;34m\u001b[0m\u001b[0;34m\u001b[0m\u001b[0m\n",
      "\u001b[0;32m~/anaconda3/lib/python3.7/tkinter/__init__.py\u001b[0m in \u001b[0;36mmainloop\u001b[0;34m(self, n)\u001b[0m\n\u001b[1;32m   1278\u001b[0m     \u001b[0;32mdef\u001b[0m \u001b[0mmainloop\u001b[0m\u001b[0;34m(\u001b[0m\u001b[0mself\u001b[0m\u001b[0;34m,\u001b[0m \u001b[0mn\u001b[0m\u001b[0;34m=\u001b[0m\u001b[0;36m0\u001b[0m\u001b[0;34m)\u001b[0m\u001b[0;34m:\u001b[0m\u001b[0;34m\u001b[0m\u001b[0m\n\u001b[1;32m   1279\u001b[0m         \u001b[0;34m\"\"\"Call the mainloop of Tk.\"\"\"\u001b[0m\u001b[0;34m\u001b[0m\u001b[0m\n\u001b[0;32m-> 1280\u001b[0;31m         \u001b[0mself\u001b[0m\u001b[0;34m.\u001b[0m\u001b[0mtk\u001b[0m\u001b[0;34m.\u001b[0m\u001b[0mmainloop\u001b[0m\u001b[0;34m(\u001b[0m\u001b[0mn\u001b[0m\u001b[0;34m)\u001b[0m\u001b[0;34m\u001b[0m\u001b[0m\n\u001b[0m\u001b[1;32m   1281\u001b[0m     \u001b[0;32mdef\u001b[0m \u001b[0mquit\u001b[0m\u001b[0;34m(\u001b[0m\u001b[0mself\u001b[0m\u001b[0;34m)\u001b[0m\u001b[0;34m:\u001b[0m\u001b[0;34m\u001b[0m\u001b[0m\n\u001b[1;32m   1282\u001b[0m         \u001b[0;34m\"\"\"Quit the Tcl interpreter. All widgets will be destroyed.\"\"\"\u001b[0m\u001b[0;34m\u001b[0m\u001b[0m\n",
      "\u001b[0;31mKeyboardInterrupt\u001b[0m: "
     ]
    }
   ],
   "source": [
    "nltk.download()"
   ]
  },
  {
   "cell_type": "code",
   "execution_count": 14,
   "metadata": {},
   "outputs": [
    {
     "name": "stdout",
     "output_type": "stream",
     "text": [
      "3-grams-2013.tsv                 movie_reviews.zip\r\n",
      "3-grams-2013.tsv.gz              \u001b[1m\u001b[36mstopwords\u001b[m\u001b[m\r\n",
      "PubMed-w2v.bin                   stopwords.zip\r\n",
      "\u001b[1m\u001b[36mbrown\u001b[m\u001b[m                            \u001b[1m\u001b[36mtreebank\u001b[m\u001b[m\r\n",
      "brown.zip                        treebank.zip\r\n",
      "\u001b[1m\u001b[36mgoogle_news\u001b[m\u001b[m                      wikipedia-pubmed-and-PMC-w2v.bin\r\n",
      "\u001b[1m\u001b[36mgutenberg\u001b[m\u001b[m                        \u001b[1m\u001b[36mwords\u001b[m\u001b[m\r\n",
      "gutenberg.zip                    words.zip\r\n",
      "\u001b[1m\u001b[36mmovie_reviews\u001b[m\u001b[m\r\n"
     ]
    }
   ],
   "source": [
    "!ls /Users/timrand/nltk_data/corpora"
   ]
  },
  {
   "cell_type": "code",
   "execution_count": 15,
   "metadata": {},
   "outputs": [],
   "source": [
    "#import os\n",
    "\n",
    "# Setup nltk corpora path and Google Word2Vec location\n",
    "google_vec_file = '/Users/timrand/nltk_data/corpora/PubMed-w2v.bin'"
   ]
  },
  {
   "cell_type": "code",
   "execution_count": 16,
   "metadata": {},
   "outputs": [],
   "source": [
    "model = gensim.models.KeyedVectors.load_word2vec_format(google_vec_file, binary=True)"
   ]
  },
  {
   "cell_type": "code",
   "execution_count": 17,
   "metadata": {},
   "outputs": [
    {
     "name": "stderr",
     "output_type": "stream",
     "text": [
      "/Users/timrand/anaconda3/lib/python3.7/site-packages/gensim/matutils.py:737: FutureWarning: Conversion of the second argument of issubdtype from `int` to `np.signedinteger` is deprecated. In future, it will be treated as `np.int64 == np.dtype(int).type`.\n",
      "  if np.issubdtype(vec.dtype, np.int):\n"
     ]
    },
    {
     "data": {
      "text/plain": [
       "[('congress', 0.7604073286056519),\n",
       " ('189th', 0.7538500428199768),\n",
       " ('JSCN', 0.7445378303527832),\n",
       " ('conference', 0.74190354347229),\n",
       " ('forty-fourth', 0.7396146059036255),\n",
       " ('143rd', 0.7380350828170776),\n",
       " ('ESPU', 0.7265064120292664),\n",
       " ('Aaas', 0.7248284220695496)]"
      ]
     },
     "execution_count": 17,
     "metadata": {},
     "output_type": "execute_result"
    }
   ],
   "source": [
    "model.most_similar('meeting' ,topn=8)"
   ]
  },
  {
   "cell_type": "code",
   "execution_count": 169,
   "metadata": {},
   "outputs": [
    {
     "name": "stderr",
     "output_type": "stream",
     "text": [
      "/Users/timrand/anaconda3/lib/python3.7/site-packages/gensim/matutils.py:737: FutureWarning: Conversion of the second argument of issubdtype from `int` to `np.signedinteger` is deprecated. In future, it will be treated as `np.int64 == np.dtype(int).type`.\n",
      "  if np.issubdtype(vec.dtype, np.int):\n"
     ]
    },
    {
     "data": {
      "text/plain": [
       "[('Ago2', 0.7537841796875),\n",
       " ('DCL1', 0.7393876314163208),\n",
       " ('Dicer', 0.7200010418891907),\n",
       " ('AGO2', 0.7185648679733276),\n",
       " ('AGO1', 0.7168599963188171),\n",
       " ('pri-miRNA', 0.7079482078552246),\n",
       " ('DICER', 0.7037908434867859),\n",
       " ('CSR-1', 0.697556734085083),\n",
       " ('ASH2L', 0.6961140036582947),\n",
       " ('Exportin-5', 0.6952595710754395),\n",
       " ('Rtf1', 0.6932278871536255),\n",
       " ('GLD-1', 0.6905473470687866),\n",
       " ('pri-miRNAs', 0.6885998845100403),\n",
       " ('Exp5', 0.6876062154769897),\n",
       " ('CHD4', 0.6874486804008484),\n",
       " ('Exportin', 0.68733811378479),\n",
       " ('PAF1', 0.6861715316772461),\n",
       " ('Brd2', 0.6846355199813843),\n",
       " ('AGO4', 0.6834419965744019),\n",
       " ('PHF8', 0.681982696056366),\n",
       " ('Nab2', 0.6811540722846985),\n",
       " ('HEN1', 0.6794799566268921),\n",
       " ('GW182', 0.678023099899292),\n",
       " ('Y14', 0.677935004234314),\n",
       " ('DDX5', 0.6773633360862732),\n",
       " ('MRG15', 0.6767968535423279),\n",
       " ('TRRAP', 0.6749491691589355),\n",
       " ('PABPC1', 0.6745913028717041),\n",
       " ('RITS', 0.6739385724067688),\n",
       " ('Argonaute1', 0.6738437414169312),\n",
       " ('DHX9', 0.6737354397773743),\n",
       " ('bromodomain-containing', 0.6735103130340576),\n",
       " ('Ddx5', 0.6728796362876892),\n",
       " ('Argonaute2', 0.6725881099700928),\n",
       " ('PRP19', 0.6716777682304382),\n",
       " ('Spt6', 0.671208381652832),\n",
       " ('TAF9', 0.671030580997467),\n",
       " ('Nrd1', 0.670723021030426),\n",
       " ('SAP18', 0.6704845428466797),\n",
       " ('PRMT5', 0.6702388525009155)]"
      ]
     },
     "execution_count": 169,
     "metadata": {},
     "output_type": "execute_result"
    }
   ],
   "source": [
    "#import Levenshtein\n",
    "mols = model.most_similar('DGCR8' ,topn=40)\n",
    "mols"
   ]
  },
  {
   "cell_type": "code",
   "execution_count": 149,
   "metadata": {},
   "outputs": [],
   "source": [
    "def get_uniq(mols):\n",
    "    collection = []\n",
    "    for m in mols:\n",
    "        collection.append(m[0].upper())\n",
    "    return set(collection)\n",
    "        "
   ]
  },
  {
   "cell_type": "code",
   "execution_count": 179,
   "metadata": {},
   "outputs": [
    {
     "name": "stderr",
     "output_type": "stream",
     "text": [
      "/Users/timrand/anaconda3/lib/python3.7/site-packages/gensim/matutils.py:737: FutureWarning: Conversion of the second argument of issubdtype from `int` to `np.signedinteger` is deprecated. In future, it will be treated as `np.int64 == np.dtype(int).type`.\n",
      "  if np.issubdtype(vec.dtype, np.int):\n"
     ]
    },
    {
     "data": {
      "text/plain": [
       "['WAF1',\n",
       " 'P21/WAF1/CIP1',\n",
       " 'P16(INK4)',\n",
       " 'RB2/P130',\n",
       " 'MDM-2',\n",
       " 'P19(ARF)',\n",
       " 'P16',\n",
       " 'WAF1/P21',\n",
       " 'CYCLIND1',\n",
       " 'P21',\n",
       " 'P21/WAF-1',\n",
       " 'P16(INK4A)',\n",
       " 'P16INK4A',\n",
       " 'P21/WAF1',\n",
       " 'BCL2',\n",
       " 'P14(ARF)',\n",
       " 'P27',\n",
       " 'P33(ING1B)',\n",
       " 'PTEN',\n",
       " 'P16INK4',\n",
       " 'P21(WAF1/CIP1)',\n",
       " 'P14ARF',\n",
       " 'PRB2/P130',\n",
       " 'PRB',\n",
       " 'P21WAF1/CIP1',\n",
       " 'P33ING1B',\n",
       " 'P73',\n",
       " 'P-53',\n",
       " 'HDM2',\n",
       " 'P21(WAF1)',\n",
       " 'SKP2',\n",
       " 'WAF-1',\n",
       " 'MDM2',\n",
       " 'P27(KIP1)',\n",
       " 'NM23-H1',\n",
       " 'E2F-1',\n",
       " 'P21WAF1',\n",
       " 'SURVIVIN',\n",
       " 'E2F1',\n",
       " 'P53',\n",
       " 'P19ARF',\n",
       " '14-3-3SIGMA']"
      ]
     },
     "execution_count": 179,
     "metadata": {},
     "output_type": "execute_result"
    }
   ],
   "source": [
    "mols = model.most_similar('p53' ,topn=60) \n",
    "list(get_uniq(mols))"
   ]
  },
  {
   "cell_type": "code",
   "execution_count": 171,
   "metadata": {},
   "outputs": [
    {
     "name": "stdout",
     "output_type": "stream",
     "text": [
      "[('WAF1/CIP1', 0.853065013885498), ('p21(WAF1)', 0.8515006303787231), ('p21(WAF1/CIP1)', 0.8485446572303772), ('p21WAF1/CIP1', 0.8446862101554871), ('p21', 0.8412282466888428), ('p21/WAF1', 0.8362233638763428), ('p21WAF1', 0.8323950171470642), ('p21(Waf1/Cip1)', 0.8149312734603882), ('mdm2', 0.8135080337524414), ('p21Waf1/Cip1', 0.8118418455123901), ('CDKN1A', 0.8110986948013306), ('p21waf1', 0.8036508560180664), ('p21(waf1)', 0.8014034032821655), ('p21(waf1/cip1)', 0.7994927167892456), ('p21(WAF1/Cip1)', 0.799335241317749), ('CIP1/WAF1', 0.7970014214515686), ('GADD45', 0.7946544885635376), ('WAF-1', 0.7945549488067627), ('Waf1', 0.7915790677070618), ('p21Waf1', 0.7897320985794067)]\n"
     ]
    },
    {
     "ename": "NameError",
     "evalue": "name 'out_string' is not defined",
     "output_type": "error",
     "traceback": [
      "\u001b[0;31m---------------------------------------------------------------------------\u001b[0m",
      "\u001b[0;31mNameError\u001b[0m                                 Traceback (most recent call last)",
      "\u001b[0;32m<ipython-input-171-57224273ea85>\u001b[0m in \u001b[0;36m<module>\u001b[0;34m()\u001b[0m\n\u001b[1;32m     36\u001b[0m \u001b[0;31m#A = delete_replicate_molecules('monkey', mols)\u001b[0m\u001b[0;34m\u001b[0m\u001b[0;34m\u001b[0m\u001b[0m\n\u001b[1;32m     37\u001b[0m \u001b[0mB\u001b[0m \u001b[0;34m=\u001b[0m \u001b[0mdelete_replicate_molecules\u001b[0m\u001b[0;34m(\u001b[0m\u001b[0;34m'p53'\u001b[0m\u001b[0;34m,\u001b[0m \u001b[0mmols\u001b[0m\u001b[0;34m)\u001b[0m\u001b[0;34m\u001b[0m\u001b[0m\n\u001b[0;32m---> 38\u001b[0;31m \u001b[0;32mfor\u001b[0m \u001b[0mi\u001b[0m \u001b[0;32min\u001b[0m \u001b[0mPrint_both\u001b[0m\u001b[0;34m(\u001b[0m\u001b[0mA\u001b[0m\u001b[0;34m,\u001b[0m\u001b[0mB\u001b[0m\u001b[0;34m)\u001b[0m\u001b[0;34m.\u001b[0m\u001b[0mside_by_side\u001b[0m\u001b[0;34m(\u001b[0m\u001b[0;34m)\u001b[0m\u001b[0;34m:\u001b[0m\u001b[0;34m\u001b[0m\u001b[0m\n\u001b[0m\u001b[1;32m     39\u001b[0m     \u001b[0mprint\u001b[0m\u001b[0;34m(\u001b[0m\u001b[0mi\u001b[0m\u001b[0;34m)\u001b[0m\u001b[0;34m\u001b[0m\u001b[0m\n",
      "\u001b[0;32m<ipython-input-171-57224273ea85>\u001b[0m in \u001b[0;36mside_by_side\u001b[0;34m(self)\u001b[0m\n\u001b[1;32m     29\u001b[0m             \u001b[0mprint\u001b[0m\u001b[0;34m(\u001b[0m\u001b[0mB\u001b[0m\u001b[0;34m)\u001b[0m\u001b[0;34m\u001b[0m\u001b[0m\n\u001b[1;32m     30\u001b[0m             \u001b[0;31m#out_string = f'{str(A[i][0:])[1:10]:50} {str(self.B):50}'\u001b[0m\u001b[0;34m\u001b[0m\u001b[0;34m\u001b[0m\u001b[0m\n\u001b[0;32m---> 31\u001b[0;31m             \u001b[0;32myield\u001b[0m \u001b[0mout_string\u001b[0m\u001b[0;34m\u001b[0m\u001b[0m\n\u001b[0m\u001b[1;32m     32\u001b[0m \u001b[0;34m\u001b[0m\u001b[0m\n\u001b[1;32m     33\u001b[0m \u001b[0;31m#for i in delete_replicate_molecules('Dicer', mols):\u001b[0m\u001b[0;34m\u001b[0m\u001b[0;34m\u001b[0m\u001b[0m\n",
      "\u001b[0;31mNameError\u001b[0m: name 'out_string' is not defined"
     ]
    }
   ],
   "source": [
    "\n",
    "\n",
    "def delete_replicate_molecules(query, hits):\n",
    "    collection=[]\n",
    "    for mol in hits:\n",
    "        #versions differ only by capitalization, hyphen\n",
    "        if query.replace('-','').upper() == mol[0].replace('-','').upper():\n",
    "            next\n",
    "        else:\n",
    "            collection.append(mol)\n",
    "    return(collection)\n",
    "        #versions differ only by hyphen\n",
    "    \n",
    "\n",
    "class Print_both():\n",
    "    def __init__(self,A,B, trunc_limit=20):\n",
    "        self.A = A\n",
    "        self.B = B\n",
    "        self.trunc_limit = trunc_limit\n",
    "    def side_by_side(self):\n",
    "        a_len = len(A)\n",
    "        b_len = len(B)\n",
    "        if (a_len - b_len) > 0 :\n",
    "            shortest = b_len\n",
    "        else:\n",
    "            shortest = a_len\n",
    "        for i in range(shortest):\n",
    "            self.trunc_limit = 10\n",
    "            print(B)\n",
    "            #out_string = f'{str(A[i][0:])[1:10]:50} {str(self.B):50}'\n",
    "            yield out_string\n",
    "    \n",
    "#for i in delete_replicate_molecules('Dicer', mols):\n",
    "#   print(i)\n",
    "\n",
    "#A = delete_replicate_molecules('monkey', mols)\n",
    "B = delete_replicate_molecules('p53', mols)\n",
    "for i in Print_both(A,B).side_by_side():\n",
    "    print(i)"
   ]
  },
  {
   "cell_type": "code",
   "execution_count": 87,
   "metadata": {
    "scrolled": true
   },
   "outputs": [
    {
     "name": "stderr",
     "output_type": "stream",
     "text": [
      "/Users/timrand/anaconda3/lib/python3.7/site-packages/gensim/matutils.py:737: FutureWarning: Conversion of the second argument of issubdtype from `int` to `np.signedinteger` is deprecated. In future, it will be treated as `np.int64 == np.dtype(int).type`.\n",
      "  if np.issubdtype(vec.dtype, np.int):\n"
     ]
    },
    {
     "data": {
      "text/plain": [
       "[('miRNA-processing', 0.7470805644989014),\n",
       " ('Ago2', 0.7365443110466003),\n",
       " ('Drosha', 0.7317155599594116),\n",
       " ('DGCR8', 0.7200010418891907),\n",
       " ('dicer', 0.7081758975982666),\n",
       " ('Dicer1', 0.695800244808197),\n",
       " ('DICER', 0.6891276836395264),\n",
       " ('Argonaute2', 0.6797058582305908),\n",
       " ('AGO1', 0.678330659866333),\n",
       " ('pre-let-7', 0.6779454946517944),\n",
       " ('microRNA-processing', 0.6755117774009705),\n",
       " ('AGO2', 0.6681179404258728),\n",
       " ('Argonaute', 0.6662837862968445),\n",
       " ('pri-miRNA', 0.665878176689148),\n",
       " ('DCL1', 0.6606435179710388),\n",
       " ('pri-miRNAs', 0.6571208834648132),\n",
       " ('let-7', 0.6549752950668335),\n",
       " ('Ago1', 0.6528126001358032),\n",
       " ('argonaute-2', 0.6494197845458984),\n",
       " ('Eri1', 0.6480423808097839),\n",
       " ('Dicer-1', 0.6473559141159058),\n",
       " ('Ago2-mediated', 0.6458188891410828),\n",
       " ('Argonaute-2', 0.6450265645980835),\n",
       " ('Dicer-2', 0.6447961330413818),\n",
       " ('CSR-1', 0.6437467336654663),\n",
       " ('Dicer-independent', 0.6418540477752686),\n",
       " ('Dicer-dependent', 0.6350765228271484),\n",
       " ('ta-siRNA', 0.633786678314209),\n",
       " ('RDE-1', 0.6336086988449097),\n",
       " ('piRNA', 0.630939781665802),\n",
       " ('drosha', 0.6298325061798096),\n",
       " ('RNAseIII', 0.6296188831329346),\n",
       " ('PRMT5', 0.6275888681411743),\n",
       " ('ARGONAUTE1', 0.6260889768600464),\n",
       " ('Piwi', 0.6250985860824585),\n",
       " ('QDE-2', 0.6245594024658203),\n",
       " ('Argonautes', 0.6230396032333374),\n",
       " ('AGO4', 0.6228219866752625),\n",
       " ('tankyrase-1', 0.6223272085189819),\n",
       " ('ChMda5', 0.622085690498352),\n",
       " ('RNaseIII', 0.621917724609375),\n",
       " ('Dgcr8', 0.6208438873291016),\n",
       " ('dADAR', 0.6183129549026489),\n",
       " ('Rpl22', 0.6179302930831909),\n",
       " ('Nibbler', 0.616866946220398),\n",
       " ('Rnt1p', 0.6162998676300049),\n",
       " ('Dicer-generated', 0.6148021817207336),\n",
       " ('decapping', 0.6140260696411133),\n",
       " ('RHAU', 0.613455057144165),\n",
       " ('argonaute', 0.6134158372879028)]"
      ]
     },
     "execution_count": 87,
     "metadata": {},
     "output_type": "execute_result"
    }
   ],
   "source": [
    "model.most_similar('Dicer' ,topn=50)"
   ]
  },
  {
   "cell_type": "code",
   "execution_count": null,
   "metadata": {},
   "outputs": [],
   "source": []
  },
  {
   "cell_type": "code",
   "execution_count": null,
   "metadata": {},
   "outputs": [],
   "source": []
  },
  {
   "cell_type": "code",
   "execution_count": null,
   "metadata": {},
   "outputs": [],
   "source": []
  },
  {
   "cell_type": "code",
   "execution_count": null,
   "metadata": {},
   "outputs": [],
   "source": []
  },
  {
   "cell_type": "code",
   "execution_count": null,
   "metadata": {},
   "outputs": [],
   "source": [
    "model.n_similarity(['king', 'man'], ['queen', 'woman'])"
   ]
  },
  {
   "cell_type": "markdown",
   "metadata": {},
   "source": [
    "Other very cool methods!:      \n",
    "\n",
    "\n",
    "Doc2Vec extends the word2vec algorithm to larger blocks of texts (paragraphs, documents, articles):    \n",
    "- https://radimrehurek.com/gensim/models/doc2vec.html\n",
    "- http://learningaboutdata.blogspot.com/2014/06/plotting-word-embedding-using-tsne-with.html\n",
    "- https://districtdatalabs.silvrback.com/modern-methods-for-sentiment-analysis\n",
    "- https://radimrehurek.com/gensim/models/word2vec.html\n",
    "- https://www.tensorflow.org/tutorials/word2vec"
   ]
  },
  {
   "cell_type": "markdown",
   "metadata": {},
   "source": [
    "### Some things to keep in Mind when using Word2Vec:\n",
    "\n",
    ">Word2vec requires a lot of data (millions of words +) to train!\n",
    "\n",
    ">However, you can download pretrained vectors!"
   ]
  },
  {
   "cell_type": "markdown",
   "metadata": {},
   "source": [
    "### Objectives\n",
    "- Visualize word vectorization\n",
    "- Prepare gensim environment\n",
    "- Fit word2vec models\n",
    "- Interpret latent variables/vectors (at a theoretical level)\n",
    "- Find similar words and word pairs\n",
    "- Use externally-trained matrices of latent features"
   ]
  }
 ],
 "metadata": {
  "anaconda-cloud": {},
  "kernelspec": {
   "display_name": "Python 3",
   "language": "python",
   "name": "python3"
  },
  "language_info": {
   "codemirror_mode": {
    "name": "ipython",
    "version": 3
   },
   "file_extension": ".py",
   "mimetype": "text/x-python",
   "name": "python",
   "nbconvert_exporter": "python",
   "pygments_lexer": "ipython3",
   "version": "3.7.0"
  },
  "toc": {
   "colors": {
    "hover_highlight": "#DAA520",
    "navigate_num": "#000000",
    "navigate_text": "#333333",
    "running_highlight": "#FF0000",
    "selected_highlight": "#FFD700",
    "sidebar_border": "#EEEEEE",
    "wrapper_background": "#FFFFFF"
   },
   "moveMenuLeft": false,
   "nav_menu": {
    "height": "246px",
    "width": "252px"
   },
   "navigate_menu": true,
   "number_sections": false,
   "sideBar": false,
   "threshold": "3",
   "toc_cell": false,
   "toc_section_display": "block",
   "toc_window_display": false,
   "widenNotebook": false
  }
 },
 "nbformat": 4,
 "nbformat_minor": 2
}
