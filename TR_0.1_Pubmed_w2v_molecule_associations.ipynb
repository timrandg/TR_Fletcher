{
 "cells": [
  {
   "cell_type": "code",
   "execution_count": 3,
   "metadata": {},
   "outputs": [],
   "source": [
    "import gensim\n",
    "\n",
    "# Setup nltk corpora path and Pubmed Word2Vec location\n",
    "pubmed_vec_file = '/Users/timrand/nltk_data/corpora/PubMed-w2v.bin'"
   ]
  },
  {
   "cell_type": "code",
   "execution_count": 5,
   "metadata": {},
   "outputs": [],
   "source": [
    "model = gensim.models.KeyedVectors.load_word2vec_format(pubmed_vec_file, binary=True)"
   ]
  },
  {
   "cell_type": "code",
   "execution_count": 9,
   "metadata": {},
   "outputs": [
    {
     "name": "stderr",
     "output_type": "stream",
     "text": [
      "/Users/timrand/anaconda3/lib/python3.7/site-packages/gensim/matutils.py:737: FutureWarning: Conversion of the second argument of issubdtype from `int` to `np.signedinteger` is deprecated. In future, it will be treated as `np.int64 == np.dtype(int).type`.\n",
      "  if np.issubdtype(vec.dtype, np.int):\n"
     ]
    },
    {
     "data": {
      "text/plain": [
       "[('k-ras', 0.8571987748146057),\n",
       " ('CDKN2A', 0.8442618250846863),\n",
       " ('KRAS2', 0.8374961614608765),\n",
       " ('K-RAS', 0.8317775130271912),\n",
       " ('RB1', 0.827904224395752),\n",
       " ('Tp53', 0.8247050046920776),\n",
       " ('KRAS', 0.8244420289993286),\n",
       " ('PIK3CA', 0.82399982213974),\n",
       " ('K-ras', 0.8214455842971802),\n",
       " ('CTNNB1', 0.8166534900665283)]"
      ]
     },
     "execution_count": 9,
     "metadata": {},
     "output_type": "execute_result"
    }
   ],
   "source": [
    "#given the PubMed-w2v model, we can search for words the most similar to a given word. \n",
    "#interestingly, for molecules, the assocaited words are other \n",
    "#these are proteins/genes in the pathway. This is because molecule names are rarely used, \n",
    "#but when they are they are in association with each other. Therefore, they have high\n",
    "#probability of being used near each other and nowhere else. \n",
    "\n",
    "TP53_assoc = model.most_similar('TP53' ,topn=10)\n",
    "TP53_assoc"
   ]
  },
  {
   "cell_type": "code",
   "execution_count": 13,
   "metadata": {},
   "outputs": [],
   "source": [
    "import pickle\n",
    "nomenclature_approved = pickle.load( open( \"pickles/nomenclature_approved.pkl\", \"rb\" ) )\n"
   ]
  },
  {
   "cell_type": "code",
   "execution_count": 32,
   "metadata": {},
   "outputs": [
    {
     "name": "stdout",
     "output_type": "stream",
     "text": [
      "failed on {} 56274\n",
      "1\n"
     ]
    }
   ],
   "source": [
    "#this should be changed to a dictionary for easier lookup\n",
    "nom_dict = {}\n",
    "for i,gene in enumerate(nomenclature_approved):\n",
    "    try:\n",
    "        nom_dict[gene[0]] = gene[1]\n",
    "    except:\n",
    "        print(f'failed on {gene} {i}')\n",
    "\n",
    "#pickle.dump( nom_dict, open( \"nomenclature_approved_dict.pkl\", \"wb\" ) )\n",
    "print(nom_dict['A2ML1-AS2'])\n"
   ]
  },
  {
   "cell_type": "code",
   "execution_count": 40,
   "metadata": {},
   "outputs": [],
   "source": [
    "nomen = pickle.load( open( \"nomenclature_approved_dict.pkl\", \"rb\" ) )"
   ]
  },
  {
   "cell_type": "code",
   "execution_count": 76,
   "metadata": {},
   "outputs": [],
   "source": [
    "\n",
    "    \n",
    "def bin_approve_fail_notFound(genes):\n",
    "    \"\"\"\n",
    "    bin_fail_notFound() takes a gene string or list of genes and returns the names\n",
    "    binned into lists in the following order: approve, failed, not found.\n",
    "    \"\"\"\n",
    "    nomen_dict = pickle.load( open( \"nomenclature_approved_dict.pkl\", \"rb\" ) )\n",
    "    approved = []\n",
    "    failed = []\n",
    "    no_entry = []\n",
    "    if type(genes) == str:\n",
    "        genes = [genes]\n",
    "    \n",
    "    for gene in genes:\n",
    "        gene = gene.upper()\n",
    "        try:\n",
    "            approval_status = nomen_dict[gene]\n",
    "            if approval_status == 1:\n",
    "                approved.append(gene)\n",
    "            else:\n",
    "                failed.append(gene)\n",
    "        except:\n",
    "            no_entry.append(gene)\n",
    "    return (approved, failed, no_entry)\n",
    " \n",
    "\n",
    "    \n",
    "\n",
    "    "
   ]
  },
  {
   "cell_type": "code",
   "execution_count": 77,
   "metadata": {},
   "outputs": [
    {
     "data": {
      "text/plain": [
       "(['AGO1', 'TP53', 'CDKN1A'], [\"A-GAMMA3'E\"], ['RB', 'JUNKYNONO'])"
      ]
     },
     "execution_count": 77,
     "metadata": {},
     "output_type": "execute_result"
    }
   ],
   "source": [
    "bin_approve_fail_notFound(['AGO1', 'TP53', 'CDKN1a', \"A-GAMMA3'E\",'RB', 'junkynono'])"
   ]
  },
  {
   "cell_type": "code",
   "execution_count": null,
   "metadata": {},
   "outputs": [],
   "source": []
  }
 ],
 "metadata": {
  "kernelspec": {
   "display_name": "Python 3",
   "language": "python",
   "name": "python3"
  },
  "language_info": {
   "codemirror_mode": {
    "name": "ipython",
    "version": 3
   },
   "file_extension": ".py",
   "mimetype": "text/x-python",
   "name": "python",
   "nbconvert_exporter": "python",
   "pygments_lexer": "ipython3",
   "version": "3.7.0"
  }
 },
 "nbformat": 4,
 "nbformat_minor": 2
}
